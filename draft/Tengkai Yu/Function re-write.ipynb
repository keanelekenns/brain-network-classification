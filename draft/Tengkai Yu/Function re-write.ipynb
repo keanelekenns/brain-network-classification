{
 "cells": [
  {
   "cell_type": "markdown",
   "metadata": {},
   "source": [
    "# cs.py"
   ]
  },
  {
   "cell_type": "code",
   "execution_count": 1,
   "metadata": {},
   "outputs": [],
   "source": [
    "import argparse\n",
    "import os\n",
    "from functools import reduce\n",
    "import numpy as np\n",
    "from sklearn.model_selection import train_test_split"
   ]
  },
  {
   "cell_type": "code",
   "execution_count": 2,
   "metadata": {},
   "outputs": [],
   "source": [
    "# !conda install -c conda-forge cvxpy\n",
    "import cvxpy as cp"
   ]
  },
  {
   "cell_type": "code",
   "execution_count": 3,
   "metadata": {},
   "outputs": [],
   "source": [
    "dir_A = \"datasets/{}/{}/\".format('children', 'td')\n",
    "files_A = [\"{}{}\".format(dir_A, filename) for filename in os.listdir(dir_A)]"
   ]
  },
  {
   "cell_type": "code",
   "execution_count": 4,
   "metadata": {},
   "outputs": [],
   "source": [
    "dir_B = \"datasets/{}/{}/\".format('children', 'asd')\n",
    "files_B = [\"{}{}\".format(dir_B, filename) for filename in os.listdir(dir_B)]"
   ]
  },
  {
   "cell_type": "code",
   "execution_count": 5,
   "metadata": {},
   "outputs": [
    {
     "data": {
      "text/plain": [
       "array([[1., 1., 0., ..., 0., 1., 0.],\n",
       "       [1., 1., 0., ..., 0., 0., 0.],\n",
       "       [0., 0., 1., ..., 0., 0., 0.],\n",
       "       ...,\n",
       "       [0., 0., 0., ..., 1., 0., 1.],\n",
       "       [1., 0., 0., ..., 0., 1., 1.],\n",
       "       [0., 0., 0., ..., 1., 1., 1.]])"
      ]
     },
     "execution_count": 5,
     "metadata": {},
     "output_type": "execute_result"
    }
   ],
   "source": [
    "np.loadtxt(files_A[0])"
   ]
  },
  {
   "cell_type": "code",
   "execution_count": 6,
   "metadata": {},
   "outputs": [],
   "source": [
    "# Split into training and testing samples\n",
    "train_A, test_A = train_test_split(files_A, test_size=0.2, random_state=23)\n",
    "train_B, test_B = train_test_split(files_B, test_size=0.2, random_state=23)"
   ]
  },
  {
   "cell_type": "code",
   "execution_count": 7,
   "metadata": {},
   "outputs": [],
   "source": [
    "# Create and Write Summary Graphs\n",
    "summary_A = reduce(lambda x,y:x+y, map(lambda file: np.loadtxt(file), train_A))/len(train_A)\n",
    "summary_B = reduce(lambda x,y:x+y, map(lambda file: np.loadtxt(file), train_B))/len(train_B)"
   ]
  },
  {
   "cell_type": "code",
   "execution_count": 8,
   "metadata": {},
   "outputs": [
    {
     "data": {
      "text/plain": [
       "array([[1.        , 0.85365854, 0.31707317, ..., 0.07317073, 0.07317073,\n",
       "        0.07317073],\n",
       "       [0.85365854, 1.        , 0.12195122, ..., 0.09756098, 0.02439024,\n",
       "        0.14634146],\n",
       "       [0.31707317, 0.12195122, 1.        , ..., 0.04878049, 0.02439024,\n",
       "        0.        ],\n",
       "       ...,\n",
       "       [0.07317073, 0.09756098, 0.04878049, ..., 1.        , 0.87804878,\n",
       "        0.56097561],\n",
       "       [0.07317073, 0.02439024, 0.02439024, ..., 0.87804878, 1.        ,\n",
       "        0.82926829],\n",
       "       [0.07317073, 0.14634146, 0.        , ..., 0.56097561, 0.82926829,\n",
       "        1.        ]])"
      ]
     },
     "execution_count": 8,
     "metadata": {},
     "output_type": "execute_result"
    }
   ],
   "source": [
    "summary_A"
   ]
  },
  {
   "cell_type": "code",
   "execution_count": 9,
   "metadata": {},
   "outputs": [
    {
     "data": {
      "text/plain": [
       "array([[1.        , 0.82051282, 0.25641026, ..., 0.05128205, 0.07692308,\n",
       "        0.15384615],\n",
       "       [0.82051282, 1.        , 0.05128205, ..., 0.15384615, 0.07692308,\n",
       "        0.05128205],\n",
       "       [0.25641026, 0.05128205, 1.        , ..., 0.07692308, 0.07692308,\n",
       "        0.05128205],\n",
       "       ...,\n",
       "       [0.05128205, 0.15384615, 0.07692308, ..., 1.        , 0.84615385,\n",
       "        0.58974359],\n",
       "       [0.07692308, 0.07692308, 0.07692308, ..., 0.84615385, 1.        ,\n",
       "        0.74358974],\n",
       "       [0.15384615, 0.05128205, 0.05128205, ..., 0.58974359, 0.74358974,\n",
       "        1.        ]])"
      ]
     },
     "execution_count": 9,
     "metadata": {},
     "output_type": "execute_result"
    }
   ],
   "source": [
    "summary_B"
   ]
  },
  {
   "cell_type": "code",
   "execution_count": 10,
   "metadata": {},
   "outputs": [],
   "source": [
    "diff_net = summary_A - summary_B"
   ]
  },
  {
   "cell_type": "code",
   "execution_count": 11,
   "metadata": {},
   "outputs": [
    {
     "data": {
      "text/plain": [
       "dtype('float64')"
      ]
     },
     "execution_count": 11,
     "metadata": {},
     "output_type": "execute_result"
    }
   ],
   "source": [
    "diff_net.dtype"
   ]
  },
  {
   "cell_type": "code",
   "execution_count": 12,
   "metadata": {},
   "outputs": [],
   "source": [
    "np.save('rewrite/deff_net', diff_net)"
   ]
  },
  {
   "cell_type": "markdown",
   "metadata": {},
   "source": [
    "# densdp.py"
   ]
  },
  {
   "cell_type": "code",
   "execution_count": 13,
   "metadata": {},
   "outputs": [],
   "source": [
    "import networkx as nx\n",
    "# import oqc_sdp\n",
    "import sys\n",
    "import os\n",
    "import numpy as np\n",
    "import scipy.io\n",
    "import subprocess\n",
    "import time\n",
    "# from greedy_oqc import localSearchNegativeOQC\n",
    "import pickle"
   ]
  },
  {
   "cell_type": "code",
   "execution_count": 14,
   "metadata": {},
   "outputs": [],
   "source": [
    "G = nx.Graph()\n",
    "graphfile = 'icdm16-egoscan/net.txt'\n",
    "with open(graphfile) as f:\n",
    "    for line in f:\n",
    "#         print(line)\n",
    "        tokens = line.strip().split()\n",
    "        u = int(tokens[0])\n",
    "        v = int(tokens[1])\n",
    "        w = float(tokens[2])\n",
    "        G.add_edge(u, v, weight=w)"
   ]
  },
  {
   "cell_type": "code",
   "execution_count": 15,
   "metadata": {},
   "outputs": [],
   "source": [
    "G1 = nx.from_numpy_array(diff_net)"
   ]
  },
  {
   "cell_type": "code",
   "execution_count": 16,
   "metadata": {},
   "outputs": [
    {
     "data": {
      "text/plain": [
       "False"
      ]
     },
     "execution_count": 16,
     "metadata": {},
     "output_type": "execute_result"
    }
   ],
   "source": [
    "nx.is_isomorphic(G1, G)"
   ]
  },
  {
   "cell_type": "code",
   "execution_count": 17,
   "metadata": {},
   "outputs": [
    {
     "name": "stdout",
     "output_type": "stream",
     "text": [
      "Loaded graph with 116 nodes and 6670 edges\n"
     ]
    }
   ],
   "source": [
    "print (\"Loaded graph with %s nodes and %s edges\" % (len(G), G.number_of_edges()))"
   ]
  },
  {
   "cell_type": "code",
   "execution_count": 18,
   "metadata": {},
   "outputs": [
    {
     "name": "stderr",
     "output_type": "stream",
     "text": [
      "<ipython-input-18-aa63a037ee1e>:1: DeprecationWarning: scipy.loadtxt is deprecated and will be removed in SciPy 2.0.0, use numpy.loadtxt instead\n",
      "  X = scipy.loadtxt('icdm16-egoscan/net.txt')\n"
     ]
    }
   ],
   "source": [
    "X = scipy.loadtxt('icdm16-egoscan/net.txt')"
   ]
  },
  {
   "cell_type": "code",
   "execution_count": 19,
   "metadata": {},
   "outputs": [
    {
     "data": {
      "text/plain": [
       "(6670, 3)"
      ]
     },
     "execution_count": 19,
     "metadata": {},
     "output_type": "execute_result"
    }
   ],
   "source": [
    "X.shape"
   ]
  },
  {
   "cell_type": "code",
   "execution_count": 20,
   "metadata": {},
   "outputs": [
    {
     "data": {
      "text/plain": [
       "array([[ 1.00000000e+00,  0.00000000e+00, -7.45682889e-03],\n",
       "       [ 2.00000000e+00,  0.00000000e+00,  2.74725275e-03],\n",
       "       [ 2.00000000e+00,  1.00000000e+00,  7.45682889e-02],\n",
       "       ...,\n",
       "       [ 1.15000000e+02,  1.12000000e+02, -1.88383046e-02],\n",
       "       [ 1.15000000e+02,  1.13000000e+02, -5.33751962e-02],\n",
       "       [ 1.15000000e+02,  1.14000000e+02,  5.14128728e-02]])"
      ]
     },
     "execution_count": 20,
     "metadata": {},
     "output_type": "execute_result"
    }
   ],
   "source": [
    "X"
   ]
  },
  {
   "cell_type": "markdown",
   "metadata": {},
   "source": [
    "# oqc_sdp.py"
   ]
  },
  {
   "cell_type": "code",
   "execution_count": 21,
   "metadata": {},
   "outputs": [],
   "source": [
    "import networkx as nx\n",
    "import numpy as np"
   ]
  },
  {
   "cell_type": "code",
   "execution_count": 22,
   "metadata": {},
   "outputs": [],
   "source": [
    "def _make_coefficient_matrices(A, weight='weight'):\n",
    "    N = len(A)\n",
    "    # w is the matrix of coefficients for \n",
    "    # the objective function\n",
    "    w = np.zeros((N + 1, N + 1))\n",
    "    # the (0, j)th entry of w is the sum of column j\n",
    "    w_0j = np.zeros(N + 1)\n",
    "    w_0j[1:] = A.sum(axis=0)\n",
    "    w[0, :] = w_0j\n",
    "    # the (i, 0)th entry of w is the sum of row i\n",
    "    w_i0 = np.zeros(N + 1)\n",
    "    w_i0[1:] = A.sum(axis=1).T\n",
    "    w[:, 0] = w_i0\n",
    "    # the rest of w (i.e., entries (i, j), such that i != 0 and j != 0)\n",
    "    # are just the adjacency matrix of G\n",
    "    w[1:, 1:] = A\n",
    "    # diagonal elements should be all zero (no self-loops)\n",
    "    np.fill_diagonal(w, 0.)\n",
    "    \n",
    "    # d is the matrix of coefficients for constraint (1)\n",
    "    # For constraint (1), we want each edge in the final solution to\n",
    "    # contribute a weight of 1\n",
    "    # We can think of d as being the corresponding matrix w\n",
    "    # for a complete graph (i.e., each edge has weight 1)\n",
    "    d = np.ones((N + 1, N + 1))\n",
    "    # the (0, j)th entry of d is the sum of column j (i.e., N - 1)\n",
    "    d_0j = np.ones(N + 1) * (N - 1)\n",
    "    d[0, :] = d_0j\n",
    "    # same for the (i, 0)th entries\n",
    "    d_i0 = np.ones(N + 1) * (N - 1)\n",
    "    d[:, 0] = d_i0\n",
    "    np.fill_diagonal(d, 0.)\n",
    "\n",
    "    return w, d"
   ]
  },
  {
   "cell_type": "code",
   "execution_count": 23,
   "metadata": {},
   "outputs": [],
   "source": [
    "w, d = _make_coefficient_matrices(diff_net)"
   ]
  },
  {
   "cell_type": "code",
   "execution_count": 24,
   "metadata": {},
   "outputs": [
    {
     "data": {
      "text/plain": [
       "(array([[ 0.        ,  2.39587242,  0.26579112, ...,  0.13946216,\n",
       "         -1.63101939, -2.81113196],\n",
       "        [ 2.39587242,  0.        ,  0.03314572, ...,  0.02188868,\n",
       "         -0.00375235, -0.08067542],\n",
       "        [ 0.26579112,  0.03314572,  0.        , ..., -0.05628518,\n",
       "         -0.05253283,  0.09505941],\n",
       "        ...,\n",
       "        [ 0.13946216,  0.02188868, -0.05628518, ...,  0.        ,\n",
       "          0.03189493, -0.02876798],\n",
       "        [-1.63101939, -0.00375235, -0.05253283, ...,  0.03189493,\n",
       "          0.        ,  0.08567855],\n",
       "        [-2.81113196, -0.08067542,  0.09505941, ..., -0.02876798,\n",
       "          0.08567855,  0.        ]]),\n",
       " array([[  0., 115., 115., ..., 115., 115., 115.],\n",
       "        [115.,   0.,   1., ...,   1.,   1.,   1.],\n",
       "        [115.,   1.,   0., ...,   1.,   1.,   1.],\n",
       "        ...,\n",
       "        [115.,   1.,   1., ...,   0.,   1.,   1.],\n",
       "        [115.,   1.,   1., ...,   1.,   0.,   1.],\n",
       "        [115.,   1.,   1., ...,   1.,   1.,   0.]]))"
      ]
     },
     "execution_count": 24,
     "metadata": {},
     "output_type": "execute_result"
    }
   ],
   "source": [
    "w, d"
   ]
  },
  {
   "cell_type": "code",
   "execution_count": 25,
   "metadata": {},
   "outputs": [],
   "source": [
    "alpha = 0.05"
   ]
  },
  {
   "cell_type": "code",
   "execution_count": 26,
   "metadata": {},
   "outputs": [],
   "source": [
    "P = np.matrix(w - alpha * d)"
   ]
  },
  {
   "cell_type": "code",
   "execution_count": 27,
   "metadata": {},
   "outputs": [],
   "source": [
    "P1 = w - alpha * d"
   ]
  },
  {
   "cell_type": "code",
   "execution_count": 28,
   "metadata": {},
   "outputs": [
    {
     "data": {
      "text/plain": [
       "13689"
      ]
     },
     "execution_count": 28,
     "metadata": {},
     "output_type": "execute_result"
    }
   ],
   "source": [
    "(P == P1).sum()"
   ]
  },
  {
   "cell_type": "code",
   "execution_count": 29,
   "metadata": {},
   "outputs": [
    {
     "data": {
      "text/plain": [
       "(117, 117)"
      ]
     },
     "execution_count": 29,
     "metadata": {},
     "output_type": "execute_result"
    }
   ],
   "source": [
    "P.shape"
   ]
  },
  {
   "cell_type": "code",
   "execution_count": null,
   "metadata": {},
   "outputs": [],
   "source": []
  }
 ],
 "metadata": {
  "kernelspec": {
   "display_name": "Python 3",
   "language": "python",
   "name": "python3"
  },
  "language_info": {
   "codemirror_mode": {
    "name": "ipython",
    "version": 3
   },
   "file_extension": ".py",
   "mimetype": "text/x-python",
   "name": "python",
   "nbconvert_exporter": "python",
   "pygments_lexer": "ipython3",
   "version": "3.8.3"
  }
 },
 "nbformat": 4,
 "nbformat_minor": 4
}
