{
 "cells": [
  {
   "cell_type": "markdown",
   "metadata": {},
   "source": [
    "## Python version and libraries"
   ]
  },
  {
   "cell_type": "code",
   "execution_count": 13,
   "metadata": {},
   "outputs": [
    {
     "name": "stdout",
     "output_type": "stream",
     "text": [
      "Python 3.8.13\n"
     ]
    }
   ],
   "source": [
    "!python3 --version"
   ]
  },
  {
   "cell_type": "markdown",
   "metadata": {},
   "source": [
    "## Tool Help"
   ]
  },
  {
   "cell_type": "code",
   "execution_count": 14,
   "metadata": {},
   "outputs": [],
   "source": [
    "!python3 cs_classification.py -h > outputs/help.txt"
   ]
  },
  {
   "cell_type": "markdown",
   "metadata": {},
   "source": [
    "# Brain Network Classification Experiments\n",
    "\n",
    "For each experiment we use Leave One Out Cross Validation (LOOCV) with alpha tuning based on accuracy. We also use the linearSVC classifier from sklearn after separating the data using various techniques."
   ]
  },
  {
   "cell_type": "markdown",
   "metadata": {},
   "source": [
    "## Contrast Subgraph Problem 1 (CSP1)"
   ]
  },
  {
   "cell_type": "markdown",
   "metadata": {},
   "source": [
    "### Close to paper’s method:\n",
    "#### Solver=SDP, charikar_projection, tsourakakis local search, a single contrast subgraph"
   ]
  },
  {
   "cell_type": "code",
   "execution_count": 15,
   "metadata": {},
   "outputs": [
    {
     "name": "stdout",
     "output_type": "stream",
     "text": [
      "^C\n"
     ]
    }
   ],
   "source": [
    "!python3 cs_classification.py datasets/children/td/ datasets/children/asd/ -a 0.01 -t -loo --plot -pre CSP1-SDP-Children > outputs/CSP1-SDP-Children.txt"
   ]
  },
  {
   "cell_type": "code",
   "execution_count": null,
   "metadata": {},
   "outputs": [],
   "source": [
    "!python3 cs_classification.py datasets/adolescents/td/ datasets/adolescents/asd/ -a 0.01 -t -loo --plot -pre CSP1-SDP-Adolescents > outputs/CSP1-SDP-Adolescents.txt"
   ]
  },
  {
   "cell_type": "code",
   "execution_count": null,
   "metadata": {},
   "outputs": [],
   "source": [
    "!python3 cs_classification.py datasets/eyesclosed/td/ datasets/eyesclosed/asd/ -a 0.01 -t -loo --plot -pre CSP1-SDP-Eyesclosed > outputs/CSP1-SDP-Eyesclosed.txt"
   ]
  },
  {
   "cell_type": "code",
   "execution_count": null,
   "metadata": {},
   "outputs": [],
   "source": [
    "!python3 cs_classification.py datasets/male/td/ datasets/male/asd/ -a 0.01 -t -loo --plot -pre CSP1-SDP-Male > outputs/CSP1-SDP-Male.txt"
   ]
  },
  {
   "cell_type": "markdown",
   "metadata": {},
   "source": [
    "### Our CS method:\n",
    "#### Solver=QP, tweaked local search, 3 contrast subgraphs"
   ]
  },
  {
   "cell_type": "code",
   "execution_count": null,
   "metadata": {},
   "outputs": [],
   "source": [
    "!python3 cs_classification.py datasets/children/td/ datasets/children/asd/ -a 0.01 -t -loo --plot -pre CSP1-QP-Children -s qp -cs 3 > outputs/CSP1-QP-Children.txt"
   ]
  },
  {
   "cell_type": "code",
   "execution_count": null,
   "metadata": {},
   "outputs": [],
   "source": [
    "!python3 cs_classification.py datasets/adolescents/td/ datasets/adolescents/asd/ -a 0.01 -t -loo --plot -pre CSP1-QP-Adolescents -s qp -cs 3 > outputs/CSP1-QP-Adolescents.txt"
   ]
  },
  {
   "cell_type": "code",
   "execution_count": null,
   "metadata": {},
   "outputs": [],
   "source": [
    "!python3 cs_classification.py datasets/eyesclosed/td/ datasets/eyesclosed/asd/ -a 0.01 -t -loo --plot -pre CSP1-QP-Eyesclosed -s qp -cs 3 > outputs/CSP1-QP-Eyesclosed.txt"
   ]
  },
  {
   "cell_type": "code",
   "execution_count": null,
   "metadata": {},
   "outputs": [],
   "source": [
    "!python3 cs_classification.py datasets/male/td/ datasets/male/asd/ -a 0.01 -t -loo --plot -pre CSP1-QP-Male -s qp -cs 3 > outputs/CSP1-QP-Male.txt"
   ]
  },
  {
   "cell_type": "markdown",
   "metadata": {},
   "source": [
    "## Contrast Subgraph Problem 2 (CSP2)"
   ]
  },
  {
   "cell_type": "markdown",
   "metadata": {},
   "source": [
    "### Close to paper’s method:\n",
    "#### Solver=SDP, charikar_projection, tsourakakis local search, a single contrast subgraph"
   ]
  },
  {
   "cell_type": "code",
   "execution_count": null,
   "metadata": {},
   "outputs": [],
   "source": [
    "!python3 cs_classification.py datasets/children/td/ datasets/children/asd/ -p 2 -a 0.01 -t -loo --plot -pre CSP2-SDP-Children > outputs/CSP2-SDP-Children.txt"
   ]
  },
  {
   "cell_type": "code",
   "execution_count": null,
   "metadata": {},
   "outputs": [],
   "source": [
    "!python3 cs_classification.py datasets/adolescents/td/ datasets/adolescents/asd/ -p 2 -a 0.01 -t -loo --plot -pre CSP2-SDP-Adolescents > outputs/CSP2-SDP-Adolescents.txt"
   ]
  },
  {
   "cell_type": "code",
   "execution_count": null,
   "metadata": {},
   "outputs": [],
   "source": [
    "!python3 cs_classification.py datasets/eyesclosed/td/ datasets/eyesclosed/asd/ -p 2 -a 0.01 -t -loo --plot -pre CSP2-SDP-Eyesclosed > outputs/CSP2-SDP-Eyesclosed.txt"
   ]
  },
  {
   "cell_type": "code",
   "execution_count": null,
   "metadata": {},
   "outputs": [],
   "source": [
    "!python3 cs_classification.py datasets/male/td/ datasets/male/asd/ -p 2 -a 0.01 -t -loo --plot -pre CSP2-SDP-Male > outputs/CSP2-SDP-Male.txt"
   ]
  },
  {
   "cell_type": "markdown",
   "metadata": {},
   "source": [
    "### Our CS method:\n",
    "#### Solver=QP, tweaked local search, 3 contrast subgraphs"
   ]
  },
  {
   "cell_type": "code",
   "execution_count": null,
   "metadata": {},
   "outputs": [],
   "source": [
    "!python3 cs_classification.py datasets/children/td/ datasets/children/asd/ -p 2 -a 0.01 -t -loo --plot -pre CSP2-QP-Children -s qp -cs 3 > outputs/CSP2-QP-Children.txt"
   ]
  },
  {
   "cell_type": "code",
   "execution_count": null,
   "metadata": {},
   "outputs": [],
   "source": [
    "!python3 cs_classification.py datasets/adolescents/td/ datasets/adolescents/asd/ -p 2 -a 0.01 -t -loo --plot -pre CSP2-QP-Adolescents -s qp -cs 3 > outputs/CSP2-QP-Adolescents.txt"
   ]
  },
  {
   "cell_type": "code",
   "execution_count": null,
   "metadata": {},
   "outputs": [],
   "source": [
    "!python3 cs_classification.py datasets/eyesclosed/td/ datasets/eyesclosed/asd/ -p 2 -a 0.01 -t -loo --plot -pre CSP2-QP-Eyesclosed -s qp -cs 3 > outputs/CSP2-QP-Eyesclosed.txt"
   ]
  },
  {
   "cell_type": "code",
   "execution_count": null,
   "metadata": {},
   "outputs": [],
   "source": [
    "!python3 cs_classification.py datasets/male/td/ datasets/male/asd/ -p 2 -a 0.01 -t -loo --plot -pre CSP2-QP-Male -s qp -cs 3 > outputs/CSP2-QP-Male.txt"
   ]
  }
 ],
 "metadata": {
  "kernelspec": {
   "display_name": "Python 3",
   "language": "python",
   "name": "python3"
  },
  "language_info": {
   "codemirror_mode": {
    "name": "ipython",
    "version": 3
   },
   "file_extension": ".py",
   "mimetype": "text/x-python",
   "name": "python",
   "nbconvert_exporter": "python",
   "pygments_lexer": "ipython3",
   "version": "3.8.13"
  }
 },
 "nbformat": 4,
 "nbformat_minor": 4
}
