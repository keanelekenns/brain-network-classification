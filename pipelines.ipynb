{
 "cells": [
  {
   "cell_type": "code",
   "execution_count": null,
   "metadata": {},
   "outputs": [],
   "source": [
    "from dense_subgraph import sdp, qp\n",
    "import numpy as np\n",
    "import utils\n",
    "import classification\n",
    "from pipeline import Pipeline\n",
    "from de_transformer import DiscriminativeEdgesTransformer\n",
    "from cs_transformer import ContrastSubgraphTransformer\n",
    "from iidaka_transformer import IidakaTransformer\n",
    "from sklearn.svm import SVC\n",
    "from sklearn.model_selection import StratifiedKFold\n",
    "from sklearn.preprocessing import StandardScaler"
   ]
  },
  {
   "cell_type": "code",
   "execution_count": null,
   "metadata": {},
   "outputs": [],
   "source": [
    "## SELECT CATEGORY ##\n",
    "\n",
    "# DATASET_NAME = \"children\"\n",
    "# DATASET_NAME = \"adolescents\"\n",
    "# DATASET_NAME = \"eyesclosed\"\n",
    "# DATASET_NAME = \"male\"\n",
    "# DATASET_NAME = \"other\"\n",
    "DATASET_NAME = \"all\"\n",
    "\n",
    "\n",
    "## SELECT DATASET PATH ##\n",
    "\n",
    "# GRAPH_DIR_PREFIX = \"./data/lanciano_datasets_corr_thresh_80/\"\n",
    "# DATA_DESCRIPTOR = \"Lanciano-Processed\"\n",
    "\n",
    "GRAPH_DIR_PREFIX = \"./data/generated_filt_global/pearson_corr_raw/\"\n",
    "DATA_DESCRIPTOR = \"Raw-Correlation\"\n",
    "\n",
    "# GRAPH_DIR_PREFIX = \"./data/generated_filt_global/pearson_corr_thresh_70/\"\n",
    "# DATA_DESCRIPTOR = \"Thresh-70\"\n",
    "\n",
    "# GRAPH_DIR_PREFIX = \"./data/generated_filt_global/pearson_corr_thresh_75/\"\n",
    "# DATA_DESCRIPTOR = \"Thresh-75\"\n",
    "\n",
    "# GRAPH_DIR_PREFIX = \"./data/generated_filt_global/pearson_corr_thresh_85/\"\n",
    "# DATA_DESCRIPTOR = \"Thresh-85\"\n",
    "\n",
    "# GRAPH_DIR_PREFIX = \"./data/generated_filt_global/pearson_corr_thresh_90/\"\n",
    "# DATA_DESCRIPTOR = \"Thresh-90\"\n",
    "\n",
    "\n",
    "weighted = False\n",
    "if DATA_DESCRIPTOR == \"Raw-Correlation\":\n",
    "    weighted = True"
   ]
  },
  {
   "cell_type": "code",
   "execution_count": null,
   "metadata": {},
   "outputs": [],
   "source": [
    "A_GRAPH_DIR = f\"{GRAPH_DIR_PREFIX}{DATASET_NAME}/asd/\"\n",
    "B_GRAPH_DIR = f\"{GRAPH_DIR_PREFIX}{DATASET_NAME}/td/\"\n",
    "a_label=\"ASD\"\n",
    "b_label=\"TD\""
   ]
  },
  {
   "cell_type": "code",
   "execution_count": null,
   "metadata": {},
   "outputs": [],
   "source": [
    "# Read brain graph files into numpy arrays\n",
    "\n",
    "if DATASET_NAME == \"all\":\n",
    "    graphs_A_list = []\n",
    "    graphs_B_list = []\n",
    "    for category in [\"children\", \"adolescents\", \"male\", \"eyesclosed\", \"other\"]:\n",
    "        a_graph_dir = f\"{GRAPH_DIR_PREFIX}{category}/asd/\"\n",
    "        b_graph_dir = f\"{GRAPH_DIR_PREFIX}{category}/td/\"\n",
    "        graphs_A_list.append(utils.get_graphs_from_files(a_graph_dir))\n",
    "        graphs_B_list.append(utils.get_graphs_from_files(b_graph_dir))\n",
    "    graphs_A = np.concatenate(graphs_A_list)\n",
    "    graphs_B = np.concatenate(graphs_B_list)\n",
    "\n",
    "else:\n",
    "    graphs_A = utils.get_graphs_from_files(A_GRAPH_DIR)\n",
    "    graphs_B = utils.get_graphs_from_files(B_GRAPH_DIR)\n",
    "\n",
    "graphs, labels = utils.label_and_concatenate_graphs(graphs_A=graphs_A, graphs_B=graphs_B, a_label=a_label, b_label=b_label)"
   ]
  },
  {
   "cell_type": "markdown",
   "metadata": {},
   "source": [
    "## Discriminative Edges"
   ]
  },
  {
   "cell_type": "code",
   "execution_count": null,
   "metadata": {},
   "outputs": [],
   "source": [
    "# Set up possible values of parameters to optimize over\n",
    "p_grid = {\"SVC\": {\"C\": [0.1, 1, 100], \"gamma\": [0.0001, 0.001, 0.01, 0.1]},\n",
    "          \"DiscriminativeEdgesTransformer\": {\n",
    "            \"a_label\": [a_label],\n",
    "            \"b_label\": [b_label],\n",
    "            \"num_edges\": [2, 3, 4, 5, 6],\n",
    "            \"weighted\": [weighted]\n",
    "            }\n",
    "          }\n",
    "\n",
    "pipe = [DiscriminativeEdgesTransformer, StandardScaler, SVC]\n",
    "\n",
    "\n",
    "inner_cv = StratifiedKFold(n_splits=5, shuffle=True, random_state=42)\n",
    "outer_cv = StratifiedKFold(n_splits=5, shuffle=True, random_state=42)\n",
    "\n",
    "results, summary = classification.nested_grid_search_cv(X=graphs, y=labels, pipeline_steps=pipe, step_param_grids=p_grid, outer_cv=outer_cv, inner_cv=inner_cv, random_state=42, plot_prefix=f\"{DATA_DESCRIPTOR}-NESTED-{DATASET_NAME}\")\n",
    "\n",
    "\n",
    "with open(f'./outputs/{DATA_DESCRIPTOR}-NestedGridSearchCV-DE-{DATASET_NAME}.txt', 'a') as fp:\n",
    "    fp.write(\"\\n============================================================\\n\")\n",
    "    fp.write(\"summary:\\n\" + str(summary) + \"\\n\")\n",
    "    for result in results:\n",
    "        fp.write(str(result) + \"\\n\")\n",
    "    fp.write(\"parameter grid:\\n\" + str(p_grid) + \"\\n\")\n",
    "    fp.write(\"\\n============================================================\\n\")"
   ]
  },
  {
   "cell_type": "markdown",
   "metadata": {},
   "source": [
    "# Contrast Subgraph Methods"
   ]
  },
  {
   "cell_type": "code",
   "execution_count": null,
   "metadata": {},
   "outputs": [],
   "source": [
    "pipe = [ContrastSubgraphTransformer, StandardScaler, SVC]\n",
    "\n",
    "inner_cv = StratifiedKFold(n_splits=5, shuffle=True, random_state=42)\n",
    "outer_cv = StratifiedKFold(n_splits=5, shuffle=True, random_state=42)"
   ]
  },
  {
   "cell_type": "markdown",
   "metadata": {},
   "source": [
    "## CSP1 QP N3"
   ]
  },
  {
   "cell_type": "code",
   "execution_count": null,
   "metadata": {},
   "outputs": [],
   "source": [
    "# Set up possible values of parameters to optimize over\n",
    "p_grid = {\"SVC\": {\"C\": [100], \"gamma\": [0.1]},\n",
    "          \"ContrastSubgraphTransformer\": {\n",
    "            \"a_label\": [\"ASD\"],\n",
    "            \"b_label\": [\"TD\"],\n",
    "            \"alpha\": [None],\n",
    "            \"alpha2\": [None],\n",
    "\n",
    "            # ASD - TD\n",
    "            \"percentile\": [65, 70, 75, 80],\n",
    "            # TD - ASD\n",
    "            \"percentile2\": [65, 70, 75, 95],\n",
    "\n",
    "            \"problem\": [1],\n",
    "            \"solver\": [qp],\n",
    "            \"num_cs\": [3],\n",
    "            }\n",
    "          }\n",
    "\n",
    "results, summary = classification.nested_grid_search_cv(X=graphs, y=labels, pipeline_steps=pipe, step_param_grids=p_grid, outer_cv=outer_cv, inner_cv=inner_cv, plot_prefix=f\"{DATA_DESCRIPTOR}-NESTED-{DATASET_NAME}\")\n",
    "\n",
    "\n",
    "with open(f'./outputs/{DATA_DESCRIPTOR}-NestedGridSearchCV-CSP1-QP-N3-{DATASET_NAME}.txt', 'a') as fp:\n",
    "    fp.write(\"\\n============================================================\\n\")\n",
    "    fp.write(\"summary:\\n\" + str(summary) + \"\\n\")\n",
    "    for result in results:\n",
    "        fp.write(str(result) + \"\\n\")\n",
    "    fp.write(\"parameter grid:\\n\" + str(p_grid) + \"\\n\")\n",
    "    fp.write(\"\\n============================================================\\n\")"
   ]
  },
  {
   "cell_type": "markdown",
   "metadata": {},
   "source": [
    "## CSP2 QP N3"
   ]
  },
  {
   "cell_type": "code",
   "execution_count": null,
   "metadata": {},
   "outputs": [],
   "source": [
    "# Set up possible values of parameters to optimize over\n",
    "p_grid = {\"SVC\": {\"C\": [0.1, 1, 100], \"gamma\": [0.0001, 0.001, 0.1, 1]},\n",
    "          \"ContrastSubgraphTransformer\": {\n",
    "            \"a_label\": [\"ASD\"],\n",
    "            \"b_label\": [\"TD\"],\n",
    "            \"alpha\": [None],\n",
    "            \"alpha2\": [None],\n",
    "\n",
    "            \"percentile\": [65, 70, 75, 80, 85, 90, 95],\n",
    "            # TD - ASD\n",
    "            \"percentile2\": [None],\n",
    "\n",
    "            \"problem\": [2],\n",
    "            \"solver\": [qp],\n",
    "            \"num_cs\": [3],\n",
    "            }\n",
    "          }\n",
    "\n",
    "results, summary = classification.nested_grid_search_cv(X=graphs, y=labels, pipeline_steps=pipe, step_param_grids=p_grid, outer_cv=outer_cv, inner_cv=inner_cv, plot_prefix=f\"{DATA_DESCRIPTOR}-NESTED-{DATASET_NAME}\")\n",
    "\n",
    "\n",
    "with open(f'./outputs/{DATA_DESCRIPTOR}-NestedGridSearchCV-CSP2-QP-N3-{DATASET_NAME}.txt', 'a') as fp:\n",
    "    fp.write(\"\\n============================================================\\n\")\n",
    "    fp.write(\"summary:\\n\" + str(summary) + \"\\n\")\n",
    "    for result in results:\n",
    "        fp.write(str(result) + \"\\n\")\n",
    "    fp.write(\"parameter grid:\\n\" + str(p_grid) + \"\\n\")\n",
    "    fp.write(\"\\n============================================================\\n\")"
   ]
  },
  {
   "cell_type": "markdown",
   "metadata": {},
   "source": [
    "## CSP1 SDP N1"
   ]
  },
  {
   "cell_type": "code",
   "execution_count": null,
   "metadata": {},
   "outputs": [],
   "source": [
    "# Set up possible values of parameters to optimize over\n",
    "p_grid = {\"SVC\": {\"C\": [100], \"gamma\": [0.1]},\n",
    "          \"ContrastSubgraphTransformer\": {\n",
    "            \"a_label\": [\"ASD\"],\n",
    "            \"b_label\": [\"TD\"],\n",
    "            \"alpha\": [None],\n",
    "            \"alpha2\": [None],\n",
    "\n",
    "            # ASD - TD\n",
    "            \"percentile\": [65, 70, 75, 80],\n",
    "            # TD - ASD\n",
    "            \"percentile2\": [65, 70, 75, 95],\n",
    "\n",
    "            \"problem\": [1],\n",
    "            \"solver\": [sdp],\n",
    "            \"num_cs\": [1],\n",
    "            }\n",
    "          }\n",
    "\n",
    "results, summary = classification.nested_grid_search_cv(X=graphs, y=labels, pipeline_steps=pipe, step_param_grids=p_grid, outer_cv=outer_cv, inner_cv=inner_cv, plot_prefix=f\"{DATA_DESCRIPTOR}-NESTED-{DATASET_NAME}\")\n",
    "\n",
    "\n",
    "with open(f'./outputs/{DATA_DESCRIPTOR}-NestedGridSearchCV-CSP1-SDP-N1-{DATASET_NAME}.txt', 'a') as fp:\n",
    "    fp.write(\"\\n============================================================\\n\")\n",
    "    fp.write(\"summary:\\n\" + str(summary) + \"\\n\")\n",
    "    for result in results:\n",
    "        fp.write(str(result) + \"\\n\")\n",
    "    fp.write(\"parameter grid:\\n\" + str(p_grid) + \"\\n\")\n",
    "    fp.write(\"\\n============================================================\\n\")"
   ]
  },
  {
   "cell_type": "markdown",
   "metadata": {},
   "source": [
    "## CSP2 SDP N1"
   ]
  },
  {
   "cell_type": "code",
   "execution_count": null,
   "metadata": {},
   "outputs": [],
   "source": [
    "# Set up possible values of parameters to optimize over\n",
    "p_grid = {\"SVC\": {\"C\": [1, 100], \"gamma\": [0.001, 0.1]},\n",
    "          \"ContrastSubgraphTransformer\": {\n",
    "            \"a_label\": [\"ASD\"],\n",
    "            \"b_label\": [\"TD\"],\n",
    "            \"alpha\": [None],\n",
    "            \"alpha2\": [None],\n",
    "\n",
    "            \"percentile\": [65, 70, 75, 80, 85, 90, 95],\n",
    "            \"percentile2\": [None],\n",
    "\n",
    "            \"problem\": [2],\n",
    "            \"solver\": [sdp],\n",
    "            \"num_cs\": [1],\n",
    "            }\n",
    "          }\n",
    "\n",
    "results, summary = classification.nested_grid_search_cv(X=graphs, y=labels, pipeline_steps=pipe, step_param_grids=p_grid, outer_cv=outer_cv, inner_cv=inner_cv, plot_prefix=f\"{DATA_DESCRIPTOR}-NESTED-{DATASET_NAME}\")\n",
    "\n",
    "\n",
    "with open(f'./outputs/{DATA_DESCRIPTOR}-NestedGridSearchCV-CSP2-SDP-N1-{DATASET_NAME}.txt', 'a') as fp:\n",
    "    fp.write(\"\\n============================================================\\n\")\n",
    "    fp.write(\"summary:\\n\" + str(summary) + \"\\n\")\n",
    "    for result in results:\n",
    "        fp.write(str(result) + \"\\n\")\n",
    "    fp.write(\"parameter grid:\\n\" + str(p_grid) + \"\\n\")\n",
    "    fp.write(\"\\n============================================================\\n\")"
   ]
  },
  {
   "cell_type": "markdown",
   "metadata": {},
   "source": [
    "## Iidaka Feature Selection"
   ]
  },
  {
   "cell_type": "code",
   "execution_count": null,
   "metadata": {},
   "outputs": [],
   "source": [
    "# Set up possible values of parameters to optimize over\n",
    "p_grid = {\"SVC\": {'C': [0.1, 1, 100], 'gamma': [1e-06, 1e-05, 0.0001]},\n",
    "          \"IidakaTransformer\": {\n",
    "            \"a_label\": [\"ASD\"],\n",
    "            \"b_label\": [\"TD\"],\n",
    "            \"effect_size_threshold\": [0.05, 0.1, 0.15, 0.2, 0.25, 0.3, 0.35]\n",
    "            }\n",
    "          }\n",
    "\n",
    "pipe = [IidakaTransformer, StandardScaler, SVC]\n",
    "\n",
    "\n",
    "inner_cv = StratifiedKFold(n_splits=5, shuffle=True, random_state=42)\n",
    "outer_cv = StratifiedKFold(n_splits=5, shuffle=True, random_state=42)\n",
    "\n",
    "results, summary = classification.nested_grid_search_cv(X=graphs, y=labels, pipeline_steps=pipe, step_param_grids=p_grid, outer_cv=outer_cv, inner_cv=inner_cv, plot_prefix=f\"{DATA_DESCRIPTOR}-NESTED-{DATASET_NAME}\")\n",
    "\n",
    "\n",
    "with open(f'./outputs/{DATA_DESCRIPTOR}-NestedGridSearchCV-Iidaka-{DATASET_NAME}.txt', 'a') as fp:\n",
    "    fp.write(\"\\n============================================================\\n\")\n",
    "    fp.write(\"summary:\\n\" + str(summary) + \"\\n\")\n",
    "    for result in results:\n",
    "        fp.write(str(result) + \"\\n\")\n",
    "    fp.write(\"parameter grid:\\n\" + str(p_grid) + \"\\n\")\n",
    "    fp.write(\"\\n============================================================\\n\")"
   ]
  }
 ],
 "metadata": {
  "kernelspec": {
   "display_name": "Python 3.8.10 ('.venv': poetry)",
   "language": "python",
   "name": "python3"
  },
  "language_info": {
   "codemirror_mode": {
    "name": "ipython",
    "version": 3
   },
   "file_extension": ".py",
   "mimetype": "text/x-python",
   "name": "python",
   "nbconvert_exporter": "python",
   "pygments_lexer": "ipython3",
   "version": "3.8.10"
  },
  "orig_nbformat": 4,
  "vscode": {
   "interpreter": {
    "hash": "a59e83b9081484267e264049bdd71eeb7bb6ce2849a71db8011c29e5de8004b3"
   }
  }
 },
 "nbformat": 4,
 "nbformat_minor": 2
}
