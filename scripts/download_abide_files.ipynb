{
 "cells": [
  {
   "cell_type": "code",
   "execution_count": 1,
   "metadata": {},
   "outputs": [],
   "source": [
    "import os\n",
    "import urllib.request as request\n",
    "import csv"
   ]
  },
  {
   "cell_type": "code",
   "execution_count": 2,
   "metadata": {},
   "outputs": [],
   "source": [
    "with open(\"../data/ABIDE/Phenotypic_V1_0b_preprocessed1.csv\", \"r\") as file: \n",
    "    reader = csv.reader(file)\n",
    "    header = next(reader)\n",
    "    subjects = []\n",
    "    for subject in reader:\n",
    "        subjects.append(subject)\n",
    "\n",
    "filename_idx = header.index(\"FILE_ID\")\n",
    "site_id_idx = header.index(\"SITE_ID\")\n",
    "sub_id_idx = header.index(\"SUB_ID\")"
   ]
  },
  {
   "cell_type": "code",
   "execution_count": 3,
   "metadata": {},
   "outputs": [],
   "source": [
    "# Phenotypic traits used by Lanciano et al.\n",
    "age_idx = header.index(\"AGE_AT_SCAN\")\n",
    "sex_idx = header.index(\"SEX\")\n",
    "eye_stat_idx = header.index(\"EYE_STATUS_AT_SCAN\")\n",
    "diagnosis_idx = header.index(\"DX_GROUP\")\n",
    "\n",
    "# Defined by Lanciano et al.\n",
    "def isMale(subject):\n",
    "    return int(subject[sex_idx]) == 1\n",
    "\n",
    "def isChild(subject):\n",
    "    return float(subject[age_idx]) <= 9\n",
    "\n",
    "def isAdolescent(subject):\n",
    "    return float(subject[age_idx]) >= 15 and float(subject[age_idx]) <= 20\n",
    "\n",
    "def hasEyesclosed(subject):\n",
    "    return int(subject[eye_stat_idx]) == 2\n",
    "    \n",
    "def hasASD(subject):\n",
    "    return int(subject[diagnosis_idx]) == 1"
   ]
  },
  {
   "cell_type": "code",
   "execution_count": 4,
   "metadata": {},
   "outputs": [],
   "source": [
    "def download_subject_file(subject, src, dest_dir, filename) -> int:\n",
    "    destinations = []\n",
    "\n",
    "    if isMale(subject):\n",
    "        if hasASD(subject):\n",
    "            destinations.append(dest_dir + \"/male/asd/\" + filename)\n",
    "        else:\n",
    "            destinations.append(dest_dir + \"/male/td/\" + filename)\n",
    "    \n",
    "    if isChild(subject):\n",
    "        if hasASD(subject):\n",
    "            destinations.append(dest_dir + \"/children/asd/\" + filename)\n",
    "        else:\n",
    "            destinations.append(dest_dir + \"/children/td/\" + filename)\n",
    "\n",
    "    if isAdolescent(subject):\n",
    "        if hasASD(subject):\n",
    "            destinations.append(dest_dir + \"/adolescents/asd/\" + filename)\n",
    "        else:\n",
    "            destinations.append(dest_dir + \"/adolescents/td/\" + filename)\n",
    "    \n",
    "    if hasEyesclosed(subject):\n",
    "        if hasASD(subject):\n",
    "            destinations.append(dest_dir + \"/eyesclosed/asd/\" + filename)\n",
    "        else:\n",
    "            destinations.append(dest_dir + \"/eyesclosed/td/\" + filename)\n",
    "    \n",
    "    # These are subjects that were excluded by Lanciano et al's choice of groups\n",
    "    if not isMale(subject) and not isChild(subject) and not isAdolescent(subject) and not hasEyesclosed(subject):\n",
    "        if hasASD(subject):\n",
    "            destinations.append(dest_dir + \"/other/asd/\" + filename)\n",
    "        else:\n",
    "            destinations.append(dest_dir + \"/other/td/\" + filename)\n",
    "    \n",
    "    for destination in destinations:\n",
    "        if not os.path.exists(destination):\n",
    "            request.urlretrieve(src, destination)\n",
    "    \n",
    "    # Return the number of locations this file has been downloaded to.\n",
    "    return len(destinations)"
   ]
  },
  {
   "cell_type": "code",
   "execution_count": 5,
   "metadata": {},
   "outputs": [],
   "source": [
    "# Select the processing type from DPARSF\n",
    "\n",
    "processing = \"filt_global\"\n",
    "# processing = \"filt_noglobal\"\n",
    "\n",
    "# Select the destination directory\n",
    "\n",
    "dest_dir = \"../data/ABIDE/temp\" # a safe default"
   ]
  },
  {
   "cell_type": "code",
   "execution_count": 6,
   "metadata": {},
   "outputs": [],
   "source": [
    "# Categoric directories\n",
    "traits = [\"adolescents\", \"children\", \"eyesclosed\", \"male\", \"other\"]\n",
    "diagnoses = [\"asd\", \"td\"]\n",
    "\n",
    "for trait in traits:\n",
    "    for diagnosis in diagnoses:\n",
    "        directory = dest_dir + \"/\" + trait + \"/\" + diagnosis + \"/\"\n",
    "        if not os.path.exists(directory):\n",
    "            os.makedirs(directory)"
   ]
  },
  {
   "attachments": {},
   "cell_type": "markdown",
   "metadata": {},
   "source": [
    "The below cell downloads the files from ABIDE's s3 bucket (if the files don't already exist). This may take some time.\n",
    "\n",
    "*NOTE:* There are 10 files from UCLA that could not be downloaded as their file names are not specified by the Phenotypic_V1_0b_preprocessed1.csv file provided by ABIDE, and I was unable to reconstruct the file name as with the other subjects."
   ]
  },
  {
   "cell_type": "code",
   "execution_count": 7,
   "metadata": {},
   "outputs": [
    {
     "name": "stdout",
     "output_type": "stream",
     "text": [
      "Could not retrieve https://s3.amazonaws.com/fcp-indi/data/Projects/ABIDE_Initiative/Outputs/dparsf/filt_global/rois_aal/Ucla_1_0051232_rois_aal.1D.\n",
      "Received: HTTP Error 404: Not Found\n",
      "Could not retrieve https://s3.amazonaws.com/fcp-indi/data/Projects/ABIDE_Initiative/Outputs/dparsf/filt_global/rois_aal/Ucla_1_0051233_rois_aal.1D.\n",
      "Received: HTTP Error 404: Not Found\n",
      "Could not retrieve https://s3.amazonaws.com/fcp-indi/data/Projects/ABIDE_Initiative/Outputs/dparsf/filt_global/rois_aal/Ucla_1_0051242_rois_aal.1D.\n",
      "Received: HTTP Error 404: Not Found\n",
      "Could not retrieve https://s3.amazonaws.com/fcp-indi/data/Projects/ABIDE_Initiative/Outputs/dparsf/filt_global/rois_aal/Ucla_1_0051243_rois_aal.1D.\n",
      "Received: HTTP Error 404: Not Found\n",
      "Could not retrieve https://s3.amazonaws.com/fcp-indi/data/Projects/ABIDE_Initiative/Outputs/dparsf/filt_global/rois_aal/Ucla_1_0051244_rois_aal.1D.\n",
      "Received: HTTP Error 404: Not Found\n",
      "Could not retrieve https://s3.amazonaws.com/fcp-indi/data/Projects/ABIDE_Initiative/Outputs/dparsf/filt_global/rois_aal/Ucla_1_0051245_rois_aal.1D.\n",
      "Received: HTTP Error 404: Not Found\n",
      "Could not retrieve https://s3.amazonaws.com/fcp-indi/data/Projects/ABIDE_Initiative/Outputs/dparsf/filt_global/rois_aal/Ucla_1_0051246_rois_aal.1D.\n",
      "Received: HTTP Error 404: Not Found\n",
      "Could not retrieve https://s3.amazonaws.com/fcp-indi/data/Projects/ABIDE_Initiative/Outputs/dparsf/filt_global/rois_aal/Ucla_1_0051247_rois_aal.1D.\n",
      "Received: HTTP Error 404: Not Found\n",
      "Could not retrieve https://s3.amazonaws.com/fcp-indi/data/Projects/ABIDE_Initiative/Outputs/dparsf/filt_global/rois_aal/Ucla_1_0051270_rois_aal.1D.\n",
      "Received: HTTP Error 404: Not Found\n",
      "Could not retrieve https://s3.amazonaws.com/fcp-indi/data/Projects/ABIDE_Initiative/Outputs/dparsf/filt_global/rois_aal/Ucla_2_0051310_rois_aal.1D.\n",
      "Received: HTTP Error 404: Not Found\n"
     ]
    }
   ],
   "source": [
    "# Get urls to each subject's data in s3\n",
    "base_s3_url = f\"https://s3.amazonaws.com/fcp-indi/data/Projects/ABIDE_Initiative/Outputs/dparsf/{processing}/rois_aal/\"\n",
    "suffix = \"_rois_aal.1D\"\n",
    "\n",
    "download_counts = []\n",
    "\n",
    "for subject in subjects:\n",
    "    filename = subject[filename_idx]\n",
    "    if filename == \"no_filename\":\n",
    "        # Special case for MAX_MUN SITE_ID\n",
    "        if subject[site_id_idx] == \"MAX_MUN\":\n",
    "            filename = \"_\".join([\"MaxMun\", \"a\", \"00\" + subject[sub_id_idx]])\n",
    "        else:\n",
    "            filename = \"_\".join([subject[site_id_idx], \"00\" + subject[sub_id_idx]])\n",
    "    s3_url = base_s3_url + filename + suffix\n",
    "\n",
    "    try:\n",
    "        download_counts.append(download_subject_file(subject, s3_url, dest_dir, filename + suffix))\n",
    "    except Exception as e1:\n",
    "        try:\n",
    "            filename = \"_\".join([subject[site_id_idx].capitalize(), \"00\" + subject[sub_id_idx]])\n",
    "            s3_url = base_s3_url + filename + suffix\n",
    "            download_counts.append(download_subject_file(subject, s3_url, dest_dir, filename + suffix))\n",
    "        except Exception as e2:\n",
    "            print(f'Could not retrieve {s3_url}.\\nReceived: {str(e2)}')"
   ]
  },
  {
   "cell_type": "code",
   "execution_count": 8,
   "metadata": {},
   "outputs": [
    {
     "data": {
      "text/plain": [
       "(Counter({3: 72, 2: 442, 1: 588}), 1102)"
      ]
     },
     "execution_count": 8,
     "metadata": {},
     "output_type": "execute_result"
    }
   ],
   "source": [
    "from collections import Counter\n",
    "Counter(download_counts), len(download_counts)"
   ]
  },
  {
   "cell_type": "code",
   "execution_count": 9,
   "metadata": {},
   "outputs": [
    {
     "data": {
      "text/plain": [
       "(array([588.,   0.,   0.,   0.,   0., 442.,   0.,   0.,   0.,  72.]),\n",
       " array([1. , 1.2, 1.4, 1.6, 1.8, 2. , 2.2, 2.4, 2.6, 2.8, 3. ]),\n",
       " <BarContainer object of 10 artists>)"
      ]
     },
     "execution_count": 9,
     "metadata": {},
     "output_type": "execute_result"
    },
    {
     "data": {
      "image/png": "[encoded data removed]",
      "text/plain": [
       "<Figure size 432x288 with 1 Axes>"
      ]
     },
     "metadata": {
      "needs_background": "light"
     },
     "output_type": "display_data"
    }
   ],
   "source": [
    "import matplotlib.pyplot as plt\n",
    "\n",
    "\n",
    "#create histogram from list of data\n",
    "plt.hist(download_counts)"
   ]
  }
 ],
 "metadata": {
  "kernelspec": {
   "display_name": "Python 3.8.10 ('.venv': poetry)",
   "language": "python",
   "name": "python3"
  },
  "language_info": {
   "codemirror_mode": {
    "name": "ipython",
    "version": 3
   },
   "file_extension": ".py",
   "mimetype": "text/x-python",
   "name": "python",
   "nbconvert_exporter": "python",
   "pygments_lexer": "ipython3",
   "version": "3.8.10"
  },
  "orig_nbformat": 4,
  "vscode": {
   "interpreter": {
    "hash": "a59e83b9081484267e264049bdd71eeb7bb6ce2849a71db8011c29e5de8004b3"
   }
  }
 },
 "nbformat": 4,
 "nbformat_minor": 2
}
