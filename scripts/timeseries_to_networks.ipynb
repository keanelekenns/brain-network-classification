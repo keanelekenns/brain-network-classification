{
 "cells": [
  {
   "cell_type": "code",
   "execution_count": 1,
   "metadata": {},
   "outputs": [],
   "source": [
    "import pandas as pd\n",
    "import numpy as np\n",
    "import os"
   ]
  },
  {
   "cell_type": "code",
   "execution_count": 2,
   "metadata": {},
   "outputs": [],
   "source": [
    "def timeseries_to_network(timeseries, threshold=False, percentile=None):\n",
    "    corr = timeseries.corr(method=\"pearson\", numeric_only=True)\n",
    "    correlation_matrix = corr.to_numpy()\n",
    "    if np.isnan(np.sum(correlation_matrix)):\n",
    "        return None\n",
    "    \n",
    "    if threshold:\n",
    "        flattened = correlation_matrix[np.triu_indices_from(correlation_matrix, k=1)]\n",
    "        t = np.percentile(flattened, percentile)\n",
    "        brain_network = np.zeros(shape=correlation_matrix.shape)\n",
    "        brain_network[np.where(correlation_matrix > t)] = 1\n",
    "        return brain_network\n",
    "    else:\n",
    "        return correlation_matrix\n"
   ]
  },
  {
   "cell_type": "code",
   "execution_count": 4,
   "metadata": {},
   "outputs": [],
   "source": [
    "new_dir = \"../../generated_datasets/pearson_corr_raw\"\n",
    "if not os.path.exists(new_dir):\n",
    "    os.makedirs(new_dir)\n",
    "\n",
    "for dirpath, dirnames, filenames in os.walk(\"../ABIDE/datasets/\"):\n",
    "\n",
    "    dest_dir = dirpath.replace(\"../ABIDE\", new_dir)\n",
    "    if not os.path.exists(dest_dir):\n",
    "        os.mkdir(dest_dir)\n",
    "\n",
    "    for filename in filenames:\n",
    "        df = pd.read_csv(dirpath + \"/\" + filename, delim_whitespace=True)\n",
    "        brain_network = timeseries_to_network(timeseries=df, threshold=False)\n",
    "        if brain_network is not None:\n",
    "            np.savetxt(dest_dir + \"/\" + filename, brain_network, fmt=\"%f\")"
   ]
  },
  {
   "cell_type": "code",
   "execution_count": 4,
   "metadata": {},
   "outputs": [],
   "source": [
    "for threshold_percentile in [70, 75, 85, 90]:\n",
    "    \n",
    "    new_dir = f\"../../generated_datasets/pearson_corr_thresh_{threshold_percentile}\"\n",
    "    if not os.path.exists(new_dir):\n",
    "        os.makedirs(new_dir)\n",
    "\n",
    "    for dirpath, dirnames, filenames in os.walk(\"../ABIDE/datasets/\"):\n",
    "\n",
    "        dest_dir = dirpath.replace(\"../ABIDE\", new_dir)\n",
    "        if not os.path.exists(dest_dir):\n",
    "            os.mkdir(dest_dir)\n",
    "\n",
    "        for filename in filenames:\n",
    "            df = pd.read_csv(dirpath + \"/\" + filename, delim_whitespace=True)\n",
    "            brain_network = timeseries_to_network(timeseries=df, threshold=True, percentile=threshold_percentile)\n",
    "            if brain_network is not None:\n",
    "                np.savetxt(dest_dir + \"/\" + filename, brain_network, fmt=\"%i\")"
   ]
  }
 ],
 "metadata": {
  "kernelspec": {
   "display_name": "Python 3.8.10 ('.venv': poetry)",
   "language": "python",
   "name": "python3"
  },
  "language_info": {
   "codemirror_mode": {
    "name": "ipython",
    "version": 3
   },
   "file_extension": ".py",
   "mimetype": "text/x-python",
   "name": "python",
   "nbconvert_exporter": "python",
   "pygments_lexer": "ipython3",
   "version": "3.8.10"
  },
  "orig_nbformat": 4,
  "vscode": {
   "interpreter": {
    "hash": "a59e83b9081484267e264049bdd71eeb7bb6ce2849a71db8011c29e5de8004b3"
   }
  }
 },
 "nbformat": 4,
 "nbformat_minor": 2
}
