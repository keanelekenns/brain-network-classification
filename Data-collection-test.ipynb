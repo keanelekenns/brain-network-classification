{
 "cells": [
  {
   "cell_type": "markdown",
   "metadata": {},
   "source": [
    "## 0. Python version and libraries"
   ]
  },
  {
   "cell_type": "code",
   "execution_count": 1,
   "metadata": {},
   "outputs": [
    {
     "name": "stdout",
     "output_type": "stream",
     "text": [
      "Python 3.8.8\n"
     ]
    }
   ],
   "source": [
    "!python -V"
   ]
  },
  {
   "cell_type": "code",
   "execution_count": 2,
   "metadata": {},
   "outputs": [],
   "source": [
    "import pandas as pd\n",
    "import os"
   ]
  },
  {
   "cell_type": "markdown",
   "metadata": {},
   "source": [
    "## 1. Test running the sample code"
   ]
  },
  {
   "cell_type": "code",
   "execution_count": 3,
   "metadata": {},
   "outputs": [
    {
     "name": "stdout",
     "output_type": "stream",
     "text": [
      "Loaded graph with 116 nodes and 6576 edges\n",
      "NODESET [5, 6, 7, 8, 9, 10, 14, 16, 59, 61, 62, 72, 93, 94, 100, 101, 102, 103]\n",
      "Contrast Subgraph td-asd: [  1  56  57  59  61  99 100 101 102 103 104 106]\n",
      "Loaded graph with 116 nodes and 6576 edges\n",
      "WARNING in Cholesky Decomposition:\n",
      "Input matrix had to be perturbed by 0.001\n",
      "NODESET [11, 18, 21, 31, 37, 38, 39, 40, 41, 42, 55, 56, 71, 72, 73, 74, 75, 76, 77, 78, 80, 81, 82, 86, 96]\n",
      "Contrast Subgraph asd-td: [10 20 30 36 37 38 40 41 54 55 70 71 72 73 74 75 76 77 79 80 81 85 95]\n",
      "Loaded graph with 116 nodes and 6635 edges\n",
      "WARNING in Cholesky Decomposition:\n",
      "Input matrix had to be perturbed by 0.001\n",
      "NODESET [4, 22, 23, 24, 25, 26, 28, 31, 32, 35, 36, 68, 88]\n",
      "Contrast Subgraph td-asd: [ 3 22 23 24 25 27 30 31 34 35 45 67 86 87]\n",
      "Loaded graph with 116 nodes and 6635 edges\n",
      "WARNING in Cholesky Decomposition:\n",
      "Input matrix had to be perturbed by 0.001\n",
      "NODESET [7, 8, 15, 16, 21, 26, 31, 32, 71, 83]\n",
      "Contrast Subgraph asd-td: [ 7 15 21 26 83 87]\n",
      "Loaded graph with 116 nodes and 6665 edges\n",
      "WARNING in Cholesky Decomposition:\n",
      "Input matrix had to be perturbed by 0.001\n",
      "NODESET [7, 12, 32, 72, 77, 78, 92, 93, 94, 96, 104, 110]\n",
      "Contrast Subgraph td-asd: [ 76  77  91  92  93  95 103 104 106 109 110]\n",
      "Loaded graph with 116 nodes and 6665 edges\n",
      "WARNING in Cholesky Decomposition:\n",
      "Input matrix had to be perturbed by 0.001\n",
      "NODESET [58, 61, 77, 78, 81]\n",
      "Contrast Subgraph asd-td: [32 58 63 77 81]\n",
      "Loaded graph with 116 nodes and 6670 edges\n",
      "WARNING in Cholesky Decomposition:\n",
      "Input matrix had to be perturbed by 0.001\n",
      "NODESET [24, 25, 26, 28, 32, 35, 36, 68, 94, 111]\n",
      "Contrast Subgraph td-asd: []\n",
      "Loaded graph with 116 nodes and 6670 edges\n",
      "WARNING in Cholesky Decomposition:\n",
      "Input matrix had to be perturbed by 0.001\n",
      "NODESET [40, 55, 86, 90]\n",
      "Contrast Subgraph asd-td: [ 37  85  89 105]\n"
     ]
    }
   ],
   "source": [
    "!python cs.py children td asd 0.05\n",
    "!python cs.py children asd td 0.05\n",
    "!python cs.py adolescents td asd 0.05\n",
    "!python cs.py adolescents asd td 0.05\n",
    "!python cs.py eyesclosed td asd 0.05\n",
    "!python cs.py eyesclosed asd td 0.05\n",
    "!python cs.py male td asd 0.05\n",
    "!python cs.py male asd td 0.05"
   ]
  },
  {
   "cell_type": "code",
   "execution_count": 4,
   "metadata": {},
   "outputs": [
    {
     "name": "stdout",
     "output_type": "stream",
     "text": [
      "Loaded graph with 116 nodes and 6576 edges\n",
      "WARNING in Cholesky Decomposition:\n",
      "Input matrix had to be perturbed by 0.001\n",
      "NODESET [5, 6, 7, 9, 10, 14, 16, 61, 72, 93]\n",
      "Contrast Subgraph td-asd: []\n",
      "Loaded graph with 116 nodes and 6576 edges\n",
      "WARNING in Cholesky Decomposition:\n",
      "Input matrix had to be perturbed by 0.001\n",
      "NODESET [37, 38, 42, 72, 75, 76, 77, 78, 80, 82, 96]\n",
      "Contrast Subgraph asd-td: [36 37 38 41 55 71 74 76 77 79 81 95]\n",
      "Loaded graph with 116 nodes and 6635 edges\n",
      "WARNING in Cholesky Decomposition:\n",
      "Input matrix had to be perturbed by 0.001\n",
      "NODESET [4, 23, 24, 25, 26, 31, 32, 68, 88]\n",
      "Contrast Subgraph td-asd: []\n",
      "Loaded graph with 116 nodes and 6635 edges\n",
      "WARNING in Cholesky Decomposition:\n",
      "Input matrix had to be perturbed by 0.001\n",
      "NODESET [16, 28, 86, 93]\n",
      "Contrast Subgraph asd-td: []\n",
      "Loaded graph with 116 nodes and 6665 edges\n",
      "WARNING in Cholesky Decomposition:\n",
      "Input matrix had to be perturbed by 0.001\n",
      "NODESET [77, 78, 93, 94, 96]\n",
      "Contrast Subgraph td-asd: []\n",
      "Loaded graph with 116 nodes and 6665 edges\n",
      "WARNING in Cholesky Decomposition:\n",
      "Input matrix had to be perturbed by 0.001\n",
      "NODESET [58, 77]\n",
      "Contrast Subgraph asd-td: [62 77 81]\n",
      "Loaded graph with 116 nodes and 6670 edges\n",
      "WARNING in Cholesky Decomposition:\n",
      "Input matrix had to be perturbed by 0.001\n",
      "NODESET [24, 25, 36]\n",
      "Contrast Subgraph td-asd: []\n",
      "Loaded graph with 116 nodes and 6670 edges\n",
      "WARNING in Cholesky Decomposition:\n",
      "Input matrix had to be perturbed by 0.001\n",
      "NODESET [55, 89]\n",
      "Contrast Subgraph asd-td: [55 89 95]\n"
     ]
    }
   ],
   "source": [
    "!python cs.py children td asd 0.08\n",
    "!python cs.py children asd td 0.08\n",
    "!python cs.py adolescents td asd 0.08\n",
    "!python cs.py adolescents asd td 0.08\n",
    "!python cs.py eyesclosed td asd 0.08\n",
    "!python cs.py eyesclosed asd td 0.08\n",
    "!python cs.py male td asd 0.08\n",
    "!python cs.py male asd td 0.08"
   ]
  },
  {
   "cell_type": "code",
   "execution_count": null,
   "metadata": {},
   "outputs": [],
   "source": []
  }
 ],
 "metadata": {
  "kernelspec": {
   "display_name": "Python 3",
   "language": "python",
   "name": "python3"
  },
  "language_info": {
   "codemirror_mode": {
    "name": "ipython",
    "version": 3
   },
   "file_extension": ".py",
   "mimetype": "text/x-python",
   "name": "python",
   "nbconvert_exporter": "python",
   "pygments_lexer": "ipython3",
   "version": "3.8.8"
  }
 },
 "nbformat": 4,
 "nbformat_minor": 4
}
