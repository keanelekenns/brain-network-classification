{
 "cells": [
  {
   "cell_type": "code",
   "execution_count": 26,
   "metadata": {},
   "outputs": [],
   "source": [
    "import numpy as np\n",
    "import cvxopt"
   ]
  },
  {
   "cell_type": "code",
   "execution_count": 27,
   "metadata": {},
   "outputs": [
    {
     "name": "stdout",
     "output_type": "stream",
     "text": [
      "[[ 0.   0.1 -0.2 -0.1]\n",
      " [ 0.1  0.   0.3 -0.1]\n",
      " [-0.2  0.3  0.   0.2]\n",
      " [-0.1 -0.1  0.2  0. ]]\n",
      "4\n"
     ]
    }
   ],
   "source": [
    "diff_net = np.array([[0, .1, -.2, -.1],[.1, 0, .3, -.1],[-.2, .3, 0, .2],[-.1, -.1, .2, 0]])\n",
    "print(diff_net)\n",
    "N = diff_net.shape[0]\n",
    "print(N)"
   ]
  },
  {
   "cell_type": "code",
   "execution_count": 28,
   "metadata": {},
   "outputs": [
    {
     "name": "stdout",
     "output_type": "stream",
     "text": [
      "[[-0.  -0.1  0.2  0.1]\n",
      " [ 0.  -0.  -0.3  0.1]\n",
      " [ 0.   0.  -0.  -0.2]\n",
      " [ 0.   0.   0.  -0. ]]\n"
     ]
    }
   ],
   "source": [
    "P = np.triu(-diff_net)\n",
    "print(P)"
   ]
  },
  {
   "cell_type": "code",
   "execution_count": 29,
   "metadata": {},
   "outputs": [
    {
     "name": "stdout",
     "output_type": "stream",
     "text": [
      "[ 0.2 -0.3 -0.3  0. ]\n"
     ]
    }
   ],
   "source": [
    "q = np.sum(-diff_net, axis=0)\n",
    "print(q)"
   ]
  },
  {
   "cell_type": "code",
   "execution_count": 30,
   "metadata": {},
   "outputs": [
    {
     "name": "stdout",
     "output_type": "stream",
     "text": [
      "[[ 1.  0.  0.  0.]\n",
      " [-1.  0.  0.  0.]\n",
      " [ 0.  1.  0.  0.]\n",
      " [ 0. -1.  0.  0.]\n",
      " [ 0.  0.  1.  0.]\n",
      " [ 0.  0. -1.  0.]\n",
      " [ 0.  0.  0.  1.]\n",
      " [ 0.  0.  0. -1.]]\n"
     ]
    }
   ],
   "source": [
    "G = np.zeros((2*N, N))\n",
    "for i in range(N):\n",
    "    G[2*i,i] = 1\n",
    "    G[2*i+1,i] = -1\n",
    "print(G)"
   ]
  },
  {
   "cell_type": "code",
   "execution_count": 31,
   "metadata": {},
   "outputs": [
    {
     "name": "stdout",
     "output_type": "stream",
     "text": [
      "[1. 1. 1. 1. 1. 1. 1. 1.]\n"
     ]
    }
   ],
   "source": [
    "h = np.ones(2*N)\n",
    "print(h)"
   ]
  },
  {
   "cell_type": "code",
   "execution_count": 33,
   "metadata": {},
   "outputs": [
    {
     "name": "stdout",
     "output_type": "stream",
     "text": [
      "     pcost       dcost       gap    pres   dres\n",
      " 0: -1.1000e-01 -9.2000e+00  9e+00  5e-17  3e-16\n",
      " 1: -2.7313e-01 -1.1145e+00  8e-01  3e-16  4e-16\n",
      " 2: -7.8687e-01 -8.4627e-01  6e-02  2e-16  2e-16\n",
      " 3: -7.9987e-01 -8.0047e-01  6e-04  4e-16  8e-17\n",
      " 4: -8.0000e-01 -8.0000e-01  6e-06  2e-16  1e-16\n",
      " 5: -8.0000e-01 -8.0000e-01  6e-08  2e-16  8e-17\n",
      "Optimal solution found.\n"
     ]
    }
   ],
   "source": [
    "P = cvxopt.matrix(P)\n",
    "q = cvxopt.matrix(q)\n",
    "G = cvxopt.matrix(G)\n",
    "h = cvxopt.matrix(h)\n",
    "sol = cvxopt.solvers.qp(P,q,G,h)"
   ]
  },
  {
   "cell_type": "code",
   "execution_count": 38,
   "metadata": {},
   "outputs": [
    {
     "name": "stdout",
     "output_type": "stream",
     "text": [
      "[-1.00e+00]\n",
      "[ 1.00e+00]\n",
      "[ 1.00e+00]\n",
      "[ 0.00e+00]\n",
      "\n",
      "-0.799999986504637\n"
     ]
    }
   ],
   "source": [
    "print(sol['x'])\n",
    "print(sol['primal objective'])"
   ]
  }
 ],
 "metadata": {
  "interpreter": {
   "hash": "988b5724e6ca18eb2b0d4d3f2bf40371dbc4cd7e07d31817c9722398a5ef239e"
  },
  "kernelspec": {
   "display_name": "Python 3.8.8 ('base')",
   "language": "python",
   "name": "python3"
  },
  "language_info": {
   "codemirror_mode": {
    "name": "ipython",
    "version": 3
   },
   "file_extension": ".py",
   "mimetype": "text/x-python",
   "name": "python",
   "nbconvert_exporter": "python",
   "pygments_lexer": "ipython3",
   "version": "3.8.8"
  },
  "orig_nbformat": 4
 },
 "nbformat": 4,
 "nbformat_minor": 2
}
