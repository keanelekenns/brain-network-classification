{
 "cells": [
  {
   "cell_type": "markdown",
   "metadata": {},
   "source": [
    "# Find Percentile Alphas"
   ]
  },
  {
   "cell_type": "code",
   "execution_count": 2,
   "metadata": {},
   "outputs": [],
   "source": [
    "import utils\n",
    "import numpy as np"
   ]
  },
  {
   "cell_type": "code",
   "execution_count": 3,
   "metadata": {},
   "outputs": [],
   "source": [
    "# Read brain graph files into numpy arrays\n",
    "children_asd = utils.get_graphs_from_files(\"./data/lanciano_datasets_corr_thresh_80/children/asd/\")\n",
    "children_td = utils.get_graphs_from_files(\"./data/lanciano_datasets_corr_thresh_80/children/td/\")\n",
    "children_asd_td_diff = utils.summary_graph(children_asd) - utils.summary_graph(children_td)"
   ]
  },
  {
   "cell_type": "code",
   "execution_count": null,
   "metadata": {},
   "outputs": [],
   "source": [
    "male_asd = utils.get_graphs_from_files(\"./data/lanciano_datasets_corr_thresh_80/male/asd/\")\n",
    "male_td = utils.get_graphs_from_files(\"./data/lanciano_datasets_corr_thresh_80/male/td/\")\n",
    "male_asd_td_diff = utils.summary_graph(male_asd) - utils.summary_graph(male_td)"
   ]
  },
  {
   "cell_type": "code",
   "execution_count": null,
   "metadata": {},
   "outputs": [],
   "source": [
    "eyesclosed_asd = utils.get_graphs_from_files(\"./data/lanciano_datasets_corr_thresh_80/eyesclosed/asd/\")\n",
    "eyesclosed_td = utils.get_graphs_from_files(\"./data/lanciano_datasets_corr_thresh_80/eyesclosed/td/\")\n",
    "eyesclosed_asd_td_diff = utils.summary_graph(eyesclosed_asd) - utils.summary_graph(eyesclosed_td)"
   ]
  },
  {
   "cell_type": "code",
   "execution_count": null,
   "metadata": {},
   "outputs": [],
   "source": [
    "adolescents_asd = utils.get_graphs_from_files(\"./data/lanciano_datasets_corr_thresh_80/adolescents/asd/\")\n",
    "adolescents_td = utils.get_graphs_from_files(\"./data/lanciano_datasets_corr_thresh_80/adolescents/td/\")\n",
    "adolescents_asd_td_diff = utils.summary_graph(adolescents_asd) - utils.summary_graph(adolescents_td)"
   ]
  },
  {
   "cell_type": "code",
   "execution_count": 5,
   "metadata": {},
   "outputs": [
    {
     "data": {
      "text/plain": [
       "(0.050235478806907374, 0.03375196232339091, 0.06828885400313972)"
      ]
     },
     "execution_count": 5,
     "metadata": {},
     "output_type": "execute_result"
    }
   ],
   "source": [
    "flat = children_asd_td_diff[np.triu_indices_from(children_asd_td_diff, k=1)]\n",
    "children_alpha_asd_td = np.percentile(flat, 80)\n",
    "children_alpha_td_asd = np.percentile(-flat, 70)\n",
    "children_alpha_p2 = np.percentile(abs(flat), 70)\n",
    "children_alpha_asd_td, children_alpha_td_asd, children_alpha_p2"
   ]
  },
  {
   "cell_type": "code",
   "execution_count": 16,
   "metadata": {},
   "outputs": [
    {
     "data": {
      "text/plain": [
       "(0.01411483253588517, 0.016994190020505763, 0.0283697881066302)"
      ]
     },
     "execution_count": 16,
     "metadata": {},
     "output_type": "execute_result"
    }
   ],
   "source": [
    "flat = male_asd_td_diff[np.triu_indices_from(male_asd_td_diff, k=1)]\n",
    "male_alpha_asd_td = np.percentile(flat, 70)\n",
    "male_alpha_td_asd = np.percentile(-flat, 75)\n",
    "male_alpha_p2 = np.percentile(abs(flat), 70)\n",
    "male_alpha_asd_td, male_alpha_td_asd, male_alpha_p2"
   ]
  },
  {
   "cell_type": "code",
   "execution_count": 17,
   "metadata": {},
   "outputs": [
    {
     "data": {
      "text/plain": [
       "(0.026805658972449742, 0.024664929262844387, 0.042377140729709536)"
      ]
     },
     "execution_count": 17,
     "metadata": {},
     "output_type": "execute_result"
    }
   ],
   "source": [
    "flat = eyesclosed_asd_td_diff[np.triu_indices_from(eyesclosed_asd_td_diff, k=1)]\n",
    "eyesclosed_alpha_asd_td = np.percentile(flat, 75)\n",
    "eyesclosed_alpha_td_asd = np.percentile(-flat, 75)\n",
    "eyesclosed_alpha_p2 = np.percentile(abs(flat), 70)\n",
    "eyesclosed_alpha_asd_td, eyesclosed_alpha_td_asd, eyesclosed_alpha_p2"
   ]
  },
  {
   "cell_type": "code",
   "execution_count": 18,
   "metadata": {},
   "outputs": [
    {
     "data": {
      "text/plain": [
       "(0.020447420917640347, 0.0847249928754629, 0.051937874038187545)"
      ]
     },
     "execution_count": 18,
     "metadata": {},
     "output_type": "execute_result"
    }
   ],
   "source": [
    "flat = adolescents_asd_td_diff[np.triu_indices_from(adolescents_asd_td_diff, k=1)]\n",
    "adolescents_alpha_asd_td = np.percentile(flat, 70)\n",
    "adolescents_alpha_td_asd = np.percentile(-flat, 95)\n",
    "adolescents_alpha_p2 = np.percentile(abs(flat), 75)\n",
    "adolescents_alpha_asd_td, adolescents_alpha_td_asd, adolescents_alpha_p2"
   ]
  },
  {
   "attachments": {},
   "cell_type": "markdown",
   "metadata": {},
   "source": [
    "### NOTE\n",
    "\n",
    "These alpha values were obtained from the entire group of brain networks within each category.\n",
    "The alpha values were then fed into the original code in Lanciano et al.'s repository (https://github.com/tlancian/contrast-subgraph), which also uses all of the brain networks of each category to find a contrast subgraph.\n",
    "The contrast subgraphs obtained were then used to translate brain networks into 2D vectors in 5 Fold Cross Validation.\n",
    "With little tuning, 79% accuracy was easily obtained.\n",
    "However, this is completely invalid, as the method involves the test data when constructing the prediction model.\n",
    "This experiment was only conducted to try to explain Lanciano et al.'s high accuracy reportings."
   ]
  }
 ],
 "metadata": {
  "kernelspec": {
   "display_name": ".venv",
   "language": "python",
   "name": "python3"
  },
  "language_info": {
   "codemirror_mode": {
    "name": "ipython",
    "version": 3
   },
   "file_extension": ".py",
   "mimetype": "text/x-python",
   "name": "python",
   "nbconvert_exporter": "python",
   "pygments_lexer": "ipython3",
   "version": "3.8.10 (default, Mar 15 2022, 12:22:08) \n[GCC 9.4.0]"
  },
  "orig_nbformat": 4,
  "vscode": {
   "interpreter": {
    "hash": "8346a52b29e2085c7585e978abf79ac58e4d129e03e9060cf63d2201f07da517"
   }
  }
 },
 "nbformat": 4,
 "nbformat_minor": 2
}
