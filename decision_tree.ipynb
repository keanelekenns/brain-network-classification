{
 "cells": [
  {
   "cell_type": "code",
   "execution_count": 2,
   "metadata": {},
   "outputs": [],
   "source": [
    "import numpy as np\n",
    "import utils\n",
    "from sklearn.tree import DecisionTreeClassifier\n",
    "from sklearn.ensemble import RandomForestClassifier\n",
    "from sklearn.model_selection import train_test_split\n",
    "from sklearn.metrics import confusion_matrix"
   ]
  },
  {
   "cell_type": "code",
   "execution_count": 3,
   "metadata": {},
   "outputs": [],
   "source": [
    "children_asd = utils.get_graphs_from_files(\"datasets/children/asd/\")\n",
    "children_td = utils.get_graphs_from_files(\"datasets/children/td/\")"
   ]
  },
  {
   "cell_type": "code",
   "execution_count": 3,
   "metadata": {},
   "outputs": [],
   "source": [
    "male_asd = utils.get_graphs_from_files(\"datasets/male/asd/\")\n",
    "male_td = utils.get_graphs_from_files(\"datasets/male/td/\")"
   ]
  },
  {
   "cell_type": "code",
   "execution_count": null,
   "metadata": {},
   "outputs": [],
   "source": [
    "adolescents_asd = utils.get_graphs_from_files(\"datasets/adolescents/asd/\")\n",
    "adolescents_td = utils.get_graphs_from_files(\"datasets/adolescents/td/\")"
   ]
  },
  {
   "cell_type": "code",
   "execution_count": null,
   "metadata": {},
   "outputs": [],
   "source": [
    "eyesclosed_asd = utils.get_graphs_from_files(\"datasets/eyesclosed/asd/\")\n",
    "eyesclosed_td = utils.get_graphs_from_files(\"datasets/eyesclosed/td/\")"
   ]
  },
  {
   "cell_type": "code",
   "execution_count": 4,
   "metadata": {},
   "outputs": [],
   "source": [
    "# Assign any networks to the asd and td networks variables (could even do concatenation of all categories)\n",
    "asd_networks = male_asd.copy()\n",
    "td_networks = male_td.copy()"
   ]
  },
  {
   "cell_type": "code",
   "execution_count": 5,
   "metadata": {},
   "outputs": [
    {
     "data": {
      "text/plain": [
       "((420, 116, 116), (420, 13456), (418, 116, 116), (418, 13456))"
      ]
     },
     "execution_count": 5,
     "metadata": {},
     "output_type": "execute_result"
    }
   ],
   "source": [
    "asd = asd_networks.reshape(asd_networks.shape[0], -1)\n",
    "td = td_networks.reshape(td_networks.shape[0], -1)\n",
    "asd_networks.shape, asd.shape, td_networks.shape, td.shape"
   ]
  },
  {
   "cell_type": "code",
   "execution_count": 6,
   "metadata": {},
   "outputs": [
    {
     "data": {
      "text/plain": [
       "((838, 13456), (838,))"
      ]
     },
     "execution_count": 6,
     "metadata": {},
     "output_type": "execute_result"
    }
   ],
   "source": [
    "y_td = np.zeros(td.shape[0])\n",
    "y_asd = np.ones(asd.shape[0])\n",
    "X = np.concatenate((td, asd))\n",
    "y = np.concatenate((y_td, y_asd))\n",
    "X.shape, y.shape"
   ]
  },
  {
   "cell_type": "code",
   "execution_count": 7,
   "metadata": {},
   "outputs": [
    {
     "data": {
      "text/plain": [
       "((array([0., 1.]), array([313, 315])), (array([0., 1.]), array([105, 105])))"
      ]
     },
     "execution_count": 7,
     "metadata": {},
     "output_type": "execute_result"
    }
   ],
   "source": [
    "X_train, X_test, y_train, y_test = train_test_split(X, y, random_state=24, stratify=y)\n",
    "\n",
    "np.unique(y_train, return_counts=True), np.unique(y_test, return_counts=True)"
   ]
  },
  {
   "cell_type": "code",
   "execution_count": 12,
   "metadata": {},
   "outputs": [
    {
     "data": {
      "text/plain": [
       "(0.5666666666666667,\n",
       " 0.5904761904761905,\n",
       " 0.5636363636363636,\n",
       " 0.5767441860465116)"
      ]
     },
     "execution_count": 12,
     "metadata": {},
     "output_type": "execute_result"
    }
   ],
   "source": [
    "clf = DecisionTreeClassifier(random_state=42, min_samples_leaf=1)\n",
    "clf.fit(X_train, y_train)\n",
    "y_pred = clf.predict(X_test)\n",
    "accuracy, precision, recall, f1 = utils.evaluate_classifier(confusion_matrix(y_test, y_pred))\n",
    "accuracy, precision, recall, f1"
   ]
  },
  {
   "cell_type": "code",
   "execution_count": 14,
   "metadata": {},
   "outputs": [
    {
     "name": "stdout",
     "output_type": "stream",
     "text": [
      "|--- feature_9013 <= 0.50\n",
      "|   |--- feature_5404 <= 0.50\n",
      "|   |   |--- feature_9196 <= 0.50\n",
      "|   |   |   |--- feature_5305 <= 0.50\n",
      "|   |   |   |   |--- feature_11972 <= 0.50\n",
      "|   |   |   |   |   |--- feature_7183 <= 0.50\n",
      "|   |   |   |   |   |   |--- feature_4416 <= 0.50\n",
      "|   |   |   |   |   |   |   |--- feature_8742 <= 0.50\n",
      "|   |   |   |   |   |   |   |   |--- feature_97 <= 0.50\n",
      "|   |   |   |   |   |   |   |   |   |--- feature_4501 <= 0.50\n",
      "|   |   |   |   |   |   |   |   |   |   |--- feature_7524 <= 0.50\n",
      "|   |   |   |   |   |   |   |   |   |   |   |--- truncated branch of depth 3\n",
      "|   |   |   |   |   |   |   |   |   |   |--- feature_7524 >  0.50\n",
      "|   |   |   |   |   |   |   |   |   |   |   |--- truncated branch of depth 2\n",
      "|   |   |   |   |   |   |   |   |   |--- feature_4501 >  0.50\n",
      "|   |   |   |   |   |   |   |   |   |   |--- feature_1543 <= 0.50\n",
      "|   |   |   |   |   |   |   |   |   |   |   |--- class: 0.0\n",
      "|   |   |   |   |   |   |   |   |   |   |--- feature_1543 >  0.50\n",
      "|   |   |   |   |   |   |   |   |   |   |   |--- class: 1.0\n",
      "|   |   |   |   |   |   |   |   |--- feature_97 >  0.50\n",
      "|   |   |   |   |   |   |   |   |   |--- class: 0.0\n",
      "|   |   |   |   |   |   |   |--- feature_8742 >  0.50\n",
      "|   |   |   |   |   |   |   |   |--- feature_3263 <= 0.50\n",
      "|   |   |   |   |   |   |   |   |   |--- feature_1602 <= 0.50\n",
      "|   |   |   |   |   |   |   |   |   |   |--- class: 1.0\n",
      "|   |   |   |   |   |   |   |   |   |--- feature_1602 >  0.50\n",
      "|   |   |   |   |   |   |   |   |   |   |--- class: 0.0\n",
      "|   |   |   |   |   |   |   |   |--- feature_3263 >  0.50\n",
      "|   |   |   |   |   |   |   |   |   |--- class: 0.0\n",
      "|   |   |   |   |   |   |--- feature_4416 >  0.50\n",
      "|   |   |   |   |   |   |   |--- feature_6721 <= 0.50\n",
      "|   |   |   |   |   |   |   |   |--- class: 0.0\n",
      "|   |   |   |   |   |   |   |--- feature_6721 >  0.50\n",
      "|   |   |   |   |   |   |   |   |--- class: 1.0\n",
      "|   |   |   |   |   |--- feature_7183 >  0.50\n",
      "|   |   |   |   |   |   |--- feature_6045 <= 0.50\n",
      "|   |   |   |   |   |   |   |--- class: 0.0\n",
      "|   |   |   |   |   |   |--- feature_6045 >  0.50\n",
      "|   |   |   |   |   |   |   |--- feature_517 <= 0.50\n",
      "|   |   |   |   |   |   |   |   |--- class: 1.0\n",
      "|   |   |   |   |   |   |   |--- feature_517 >  0.50\n",
      "|   |   |   |   |   |   |   |   |--- class: 0.0\n",
      "|   |   |   |   |--- feature_11972 >  0.50\n",
      "|   |   |   |   |   |--- feature_4150 <= 0.50\n",
      "|   |   |   |   |   |   |--- class: 0.0\n",
      "|   |   |   |   |   |--- feature_4150 >  0.50\n",
      "|   |   |   |   |   |   |--- class: 1.0\n",
      "|   |   |   |--- feature_5305 >  0.50\n",
      "|   |   |   |   |--- feature_857 <= 0.50\n",
      "|   |   |   |   |   |--- feature_2166 <= 0.50\n",
      "|   |   |   |   |   |   |--- class: 0.0\n",
      "|   |   |   |   |   |--- feature_2166 >  0.50\n",
      "|   |   |   |   |   |   |--- class: 1.0\n",
      "|   |   |   |   |--- feature_857 >  0.50\n",
      "|   |   |   |   |   |--- feature_6630 <= 0.50\n",
      "|   |   |   |   |   |   |--- class: 1.0\n",
      "|   |   |   |   |   |--- feature_6630 >  0.50\n",
      "|   |   |   |   |   |   |--- class: 0.0\n",
      "|   |   |--- feature_9196 >  0.50\n",
      "|   |   |   |--- feature_7831 <= 0.50\n",
      "|   |   |   |   |--- feature_12963 <= 0.50\n",
      "|   |   |   |   |   |--- feature_7917 <= 0.50\n",
      "|   |   |   |   |   |   |--- feature_5256 <= 0.50\n",
      "|   |   |   |   |   |   |   |--- feature_5193 <= 0.50\n",
      "|   |   |   |   |   |   |   |   |--- feature_2135 <= 0.50\n",
      "|   |   |   |   |   |   |   |   |   |--- feature_4183 <= 0.50\n",
      "|   |   |   |   |   |   |   |   |   |   |--- class: 0.0\n",
      "|   |   |   |   |   |   |   |   |   |--- feature_4183 >  0.50\n",
      "|   |   |   |   |   |   |   |   |   |   |--- class: 1.0\n",
      "|   |   |   |   |   |   |   |   |--- feature_2135 >  0.50\n",
      "|   |   |   |   |   |   |   |   |   |--- class: 1.0\n",
      "|   |   |   |   |   |   |   |--- feature_5193 >  0.50\n",
      "|   |   |   |   |   |   |   |   |--- class: 1.0\n",
      "|   |   |   |   |   |   |--- feature_5256 >  0.50\n",
      "|   |   |   |   |   |   |   |--- class: 1.0\n",
      "|   |   |   |   |   |--- feature_7917 >  0.50\n",
      "|   |   |   |   |   |   |--- feature_8036 <= 0.50\n",
      "|   |   |   |   |   |   |   |--- feature_5832 <= 0.50\n",
      "|   |   |   |   |   |   |   |   |--- class: 0.0\n",
      "|   |   |   |   |   |   |   |--- feature_5832 >  0.50\n",
      "|   |   |   |   |   |   |   |   |--- class: 1.0\n",
      "|   |   |   |   |   |   |--- feature_8036 >  0.50\n",
      "|   |   |   |   |   |   |   |--- feature_5624 <= 0.50\n",
      "|   |   |   |   |   |   |   |   |--- class: 1.0\n",
      "|   |   |   |   |   |   |   |--- feature_5624 >  0.50\n",
      "|   |   |   |   |   |   |   |   |--- class: 0.0\n",
      "|   |   |   |   |--- feature_12963 >  0.50\n",
      "|   |   |   |   |   |--- feature_7260 <= 0.50\n",
      "|   |   |   |   |   |   |--- class: 1.0\n",
      "|   |   |   |   |   |--- feature_7260 >  0.50\n",
      "|   |   |   |   |   |   |--- class: 0.0\n",
      "|   |   |   |--- feature_7831 >  0.50\n",
      "|   |   |   |   |--- feature_2350 <= 0.50\n",
      "|   |   |   |   |   |--- feature_1240 <= 0.50\n",
      "|   |   |   |   |   |   |--- feature_12379 <= 0.50\n",
      "|   |   |   |   |   |   |   |--- feature_2842 <= 0.50\n",
      "|   |   |   |   |   |   |   |   |--- class: 0.0\n",
      "|   |   |   |   |   |   |   |--- feature_2842 >  0.50\n",
      "|   |   |   |   |   |   |   |   |--- class: 1.0\n",
      "|   |   |   |   |   |   |--- feature_12379 >  0.50\n",
      "|   |   |   |   |   |   |   |--- class: 1.0\n",
      "|   |   |   |   |   |--- feature_1240 >  0.50\n",
      "|   |   |   |   |   |   |--- feature_2920 <= 0.50\n",
      "|   |   |   |   |   |   |   |--- class: 1.0\n",
      "|   |   |   |   |   |   |--- feature_2920 >  0.50\n",
      "|   |   |   |   |   |   |   |--- class: 0.0\n",
      "|   |   |   |   |--- feature_2350 >  0.50\n",
      "|   |   |   |   |   |--- feature_1304 <= 0.50\n",
      "|   |   |   |   |   |   |--- feature_335 <= 0.50\n",
      "|   |   |   |   |   |   |   |--- feature_12765 <= 0.50\n",
      "|   |   |   |   |   |   |   |   |--- class: 1.0\n",
      "|   |   |   |   |   |   |   |--- feature_12765 >  0.50\n",
      "|   |   |   |   |   |   |   |   |--- class: 0.0\n",
      "|   |   |   |   |   |   |--- feature_335 >  0.50\n",
      "|   |   |   |   |   |   |   |--- feature_2466 <= 0.50\n",
      "|   |   |   |   |   |   |   |   |--- class: 1.0\n",
      "|   |   |   |   |   |   |   |--- feature_2466 >  0.50\n",
      "|   |   |   |   |   |   |   |   |--- class: 0.0\n",
      "|   |   |   |   |   |--- feature_1304 >  0.50\n",
      "|   |   |   |   |   |   |--- feature_10338 <= 0.50\n",
      "|   |   |   |   |   |   |   |--- feature_3012 <= 0.50\n",
      "|   |   |   |   |   |   |   |   |--- class: 0.0\n",
      "|   |   |   |   |   |   |   |--- feature_3012 >  0.50\n",
      "|   |   |   |   |   |   |   |   |--- class: 1.0\n",
      "|   |   |   |   |   |   |--- feature_10338 >  0.50\n",
      "|   |   |   |   |   |   |   |--- feature_11846 <= 0.50\n",
      "|   |   |   |   |   |   |   |   |--- class: 1.0\n",
      "|   |   |   |   |   |   |   |--- feature_11846 >  0.50\n",
      "|   |   |   |   |   |   |   |   |--- class: 0.0\n",
      "|   |--- feature_5404 >  0.50\n",
      "|   |   |--- feature_12523 <= 0.50\n",
      "|   |   |   |--- feature_1914 <= 0.50\n",
      "|   |   |   |   |--- feature_6958 <= 0.50\n",
      "|   |   |   |   |   |--- feature_862 <= 0.50\n",
      "|   |   |   |   |   |   |--- class: 0.0\n",
      "|   |   |   |   |   |--- feature_862 >  0.50\n",
      "|   |   |   |   |   |   |--- class: 1.0\n",
      "|   |   |   |   |--- feature_6958 >  0.50\n",
      "|   |   |   |   |   |--- class: 1.0\n",
      "|   |   |   |--- feature_1914 >  0.50\n",
      "|   |   |   |   |--- feature_11946 <= 0.50\n",
      "|   |   |   |   |   |--- class: 1.0\n",
      "|   |   |   |   |--- feature_11946 >  0.50\n",
      "|   |   |   |   |   |--- class: 0.0\n",
      "|   |   |--- feature_12523 >  0.50\n",
      "|   |   |   |--- feature_6849 <= 0.50\n",
      "|   |   |   |   |--- class: 1.0\n",
      "|   |   |   |--- feature_6849 >  0.50\n",
      "|   |   |   |   |--- class: 0.0\n",
      "|--- feature_9013 >  0.50\n",
      "|   |--- feature_5970 <= 0.50\n",
      "|   |   |--- feature_8595 <= 0.50\n",
      "|   |   |   |--- feature_6541 <= 0.50\n",
      "|   |   |   |   |--- feature_9622 <= 0.50\n",
      "|   |   |   |   |   |--- feature_3824 <= 0.50\n",
      "|   |   |   |   |   |   |--- feature_8155 <= 0.50\n",
      "|   |   |   |   |   |   |   |--- feature_7587 <= 0.50\n",
      "|   |   |   |   |   |   |   |   |--- class: 1.0\n",
      "|   |   |   |   |   |   |   |--- feature_7587 >  0.50\n",
      "|   |   |   |   |   |   |   |   |--- class: 0.0\n",
      "|   |   |   |   |   |   |--- feature_8155 >  0.50\n",
      "|   |   |   |   |   |   |   |--- feature_8950 <= 0.50\n",
      "|   |   |   |   |   |   |   |   |--- class: 1.0\n",
      "|   |   |   |   |   |   |   |--- feature_8950 >  0.50\n",
      "|   |   |   |   |   |   |   |   |--- class: 0.0\n",
      "|   |   |   |   |   |--- feature_3824 >  0.50\n",
      "|   |   |   |   |   |   |--- feature_1440 <= 0.50\n",
      "|   |   |   |   |   |   |   |--- class: 0.0\n",
      "|   |   |   |   |   |   |--- feature_1440 >  0.50\n",
      "|   |   |   |   |   |   |   |--- class: 1.0\n",
      "|   |   |   |   |--- feature_9622 >  0.50\n",
      "|   |   |   |   |   |--- feature_9775 <= 0.50\n",
      "|   |   |   |   |   |   |--- class: 1.0\n",
      "|   |   |   |   |   |--- feature_9775 >  0.50\n",
      "|   |   |   |   |   |   |--- class: 0.0\n",
      "|   |   |   |--- feature_6541 >  0.50\n",
      "|   |   |   |   |--- class: 0.0\n",
      "|   |   |--- feature_8595 >  0.50\n",
      "|   |   |   |--- feature_11006 <= 0.50\n",
      "|   |   |   |   |--- feature_12735 <= 0.50\n",
      "|   |   |   |   |   |--- feature_6714 <= 0.50\n",
      "|   |   |   |   |   |   |--- feature_11973 <= 0.50\n",
      "|   |   |   |   |   |   |   |--- class: 1.0\n",
      "|   |   |   |   |   |   |--- feature_11973 >  0.50\n",
      "|   |   |   |   |   |   |   |--- class: 0.0\n",
      "|   |   |   |   |   |--- feature_6714 >  0.50\n",
      "|   |   |   |   |   |   |--- feature_4094 <= 0.50\n",
      "|   |   |   |   |   |   |   |--- class: 1.0\n",
      "|   |   |   |   |   |   |--- feature_4094 >  0.50\n",
      "|   |   |   |   |   |   |   |--- class: 0.0\n",
      "|   |   |   |   |--- feature_12735 >  0.50\n",
      "|   |   |   |   |   |--- feature_12958 <= 0.50\n",
      "|   |   |   |   |   |   |--- class: 0.0\n",
      "|   |   |   |   |   |--- feature_12958 >  0.50\n",
      "|   |   |   |   |   |   |--- class: 1.0\n",
      "|   |   |   |--- feature_11006 >  0.50\n",
      "|   |   |   |   |--- class: 0.0\n",
      "|   |--- feature_5970 >  0.50\n",
      "|   |   |--- feature_11175 <= 0.50\n",
      "|   |   |   |--- feature_10294 <= 0.50\n",
      "|   |   |   |   |--- feature_2048 <= 0.50\n",
      "|   |   |   |   |   |--- class: 1.0\n",
      "|   |   |   |   |--- feature_2048 >  0.50\n",
      "|   |   |   |   |   |--- class: 0.0\n",
      "|   |   |   |--- feature_10294 >  0.50\n",
      "|   |   |   |   |--- class: 1.0\n",
      "|   |   |--- feature_11175 >  0.50\n",
      "|   |   |   |--- feature_5848 <= 0.50\n",
      "|   |   |   |   |--- class: 1.0\n",
      "|   |   |   |--- feature_5848 >  0.50\n",
      "|   |   |   |   |--- feature_12269 <= 0.50\n",
      "|   |   |   |   |   |--- feature_11424 <= 0.50\n",
      "|   |   |   |   |   |   |--- class: 0.0\n",
      "|   |   |   |   |   |--- feature_11424 >  0.50\n",
      "|   |   |   |   |   |   |--- feature_8363 <= 0.50\n",
      "|   |   |   |   |   |   |   |--- class: 1.0\n",
      "|   |   |   |   |   |   |--- feature_8363 >  0.50\n",
      "|   |   |   |   |   |   |   |--- class: 0.0\n",
      "|   |   |   |   |--- feature_12269 >  0.50\n",
      "|   |   |   |   |   |--- feature_12507 <= 0.50\n",
      "|   |   |   |   |   |   |--- class: 1.0\n",
      "|   |   |   |   |   |--- feature_12507 >  0.50\n",
      "|   |   |   |   |   |   |--- class: 0.0\n",
      "\n"
     ]
    }
   ],
   "source": [
    "from sklearn import tree\n",
    "text_representation = tree.export_text(clf)\n",
    "print(text_representation)"
   ]
  }
 ],
 "metadata": {
  "kernelspec": {
   "display_name": "Python 3.8.13 ('base')",
   "language": "python",
   "name": "python3"
  },
  "language_info": {
   "codemirror_mode": {
    "name": "ipython",
    "version": 3
   },
   "file_extension": ".py",
   "mimetype": "text/x-python",
   "name": "python",
   "nbconvert_exporter": "python",
   "pygments_lexer": "ipython3",
   "version": "3.8.13"
  },
  "orig_nbformat": 4,
  "vscode": {
   "interpreter": {
    "hash": "3e3827c0b70d9ebb7a63684f92d553713194616f2d5d5ae759fb6719dbc581d4"
   }
  }
 },
 "nbformat": 4,
 "nbformat_minor": 2
}
