{
 "cells": [
  {
   "cell_type": "markdown",
   "metadata": {},
   "source": [
    "This is a replication of the original paper's experiments. It calculates the alpha values as described in a recent update to the original author's repo."
   ]
  },
  {
   "cell_type": "markdown",
   "metadata": {},
   "source": [
    "## Python version and libraries"
   ]
  },
  {
   "cell_type": "code",
   "execution_count": 6,
   "metadata": {},
   "outputs": [
    {
     "name": "stdout",
     "output_type": "stream",
     "text": [
      "Python 3.8.13\n"
     ]
    }
   ],
   "source": [
    "!python3 --version"
   ]
  },
  {
   "cell_type": "markdown",
   "metadata": {},
   "source": [
    "## Tool Help"
   ]
  },
  {
   "cell_type": "code",
   "execution_count": 7,
   "metadata": {},
   "outputs": [],
   "source": [
    "!python3 cs_classification.py -h > outputs/help.txt"
   ]
  },
  {
   "cell_type": "markdown",
   "metadata": {},
   "source": [
    "## Contrast Subgraph Problem 1 (CSP1)"
   ]
  },
  {
   "cell_type": "markdown",
   "metadata": {},
   "source": [
    "### Solver=SDP, charikar_projection, tsourakakis local search, a single contrast subgraph"
   ]
  },
  {
   "cell_type": "code",
   "execution_count": 8,
   "metadata": {},
   "outputs": [],
   "source": [
    "!python3 cs_classification.py datasets/children/td/ datasets/children/asd/ --percentile 70 --percentile2 80 -k 5 -pre CSP1-SDP-Percentile-Children > outputs/CSP1-SDP-Percentile-Children.txt"
   ]
  },
  {
   "cell_type": "code",
   "execution_count": 9,
   "metadata": {},
   "outputs": [],
   "source": [
    "!python3 cs_classification.py datasets/adolescents/td/ datasets/adolescents/asd/ --percentile 95 --percentile2 70  -k 5 -pre CSP1-SDP-Percentile-Adolescents > outputs/CSP1-SDP-Percentile-Adolescents.txt"
   ]
  },
  {
   "cell_type": "code",
   "execution_count": 10,
   "metadata": {},
   "outputs": [],
   "source": [
    "!python3 cs_classification.py datasets/eyesclosed/td/ datasets/eyesclosed/asd/ --percentile 75 --percentile2 75 -k 5 -pre CSP1-SDP-Percentile-Eyesclosed > outputs/CSP1-SDP-Percentile-Eyesclosed.txt"
   ]
  },
  {
   "cell_type": "code",
   "execution_count": 11,
   "metadata": {},
   "outputs": [],
   "source": [
    "!python3 cs_classification.py datasets/male/td/ datasets/male/asd/ --percentile 75 --percentile2 70 -k 5 -pre CSP1-SDP-Percentile-Male > outputs/CSP1-SDP-Percentile-Male.txt"
   ]
  },
  {
   "cell_type": "markdown",
   "metadata": {},
   "source": [
    "## Contrast Subgraph Problem 2 (CSP2)"
   ]
  },
  {
   "cell_type": "markdown",
   "metadata": {},
   "source": [
    "### Solver=SDP, charikar_projection, tsourakakis local search, a single contrast subgraph"
   ]
  },
  {
   "cell_type": "code",
   "execution_count": 12,
   "metadata": {},
   "outputs": [],
   "source": [
    "!python3 cs_classification.py datasets/children/td/ datasets/children/asd/ -p 2 --percentile 70 -k 5 -pre CSP2-SDP-Percentile-Children > outputs/CSP2-SDP-Percentile-Children.txt"
   ]
  },
  {
   "cell_type": "code",
   "execution_count": 13,
   "metadata": {},
   "outputs": [],
   "source": [
    "!python3 cs_classification.py datasets/adolescents/td/ datasets/adolescents/asd/ -p 2 --percentile 75 -k 5 -pre CSP2-SDP-Percentile-Adolescents > outputs/CSP2-SDP-Percentile-Adolescents.txt"
   ]
  },
  {
   "cell_type": "code",
   "execution_count": 14,
   "metadata": {},
   "outputs": [],
   "source": [
    "!python3 cs_classification.py datasets/eyesclosed/td/ datasets/eyesclosed/asd/ -p 2 --percentile 70 -k 5 -pre CSP2-SDP-Percentile-Eyesclosed > outputs/CSP2-SDP-Percentile-Eyesclosed.txt"
   ]
  },
  {
   "cell_type": "code",
   "execution_count": 15,
   "metadata": {},
   "outputs": [
    {
     "name": "stdout",
     "output_type": "stream",
     "text": [
      "/home/kenns/miniconda3/lib/python3.8/site-packages/sklearn/svm/_base.py:976: ConvergenceWarning: Liblinear failed to converge, increase the number of iterations.\n",
      "  warnings.warn(\"Liblinear failed to converge, increase \"\n"
     ]
    }
   ],
   "source": [
    "!python3 cs_classification.py datasets/male/td/ datasets/male/asd/ -p 2 --percentile 70 -k 5 -pre CSP2-SDP-Percentile-Male > outputs/CSP2-SDP-Percentile-Male.txt"
   ]
  }
 ],
 "metadata": {
  "interpreter": {
   "hash": "3e3827c0b70d9ebb7a63684f92d553713194616f2d5d5ae759fb6719dbc581d4"
  },
  "kernelspec": {
   "display_name": "Python 3.8.13 ('base')",
   "language": "python",
   "name": "python3"
  },
  "language_info": {
   "codemirror_mode": {
    "name": "ipython",
    "version": 3
   },
   "file_extension": ".py",
   "mimetype": "text/x-python",
   "name": "python",
   "nbconvert_exporter": "python",
   "pygments_lexer": "ipython3",
   "version": "3.8.13"
  }
 },
 "nbformat": 4,
 "nbformat_minor": 4
}
