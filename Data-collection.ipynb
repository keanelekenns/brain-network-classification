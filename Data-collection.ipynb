{
 "cells": [
  {
   "cell_type": "markdown",
   "metadata": {},
   "source": [
    "## 0. Python version and libraries"
   ]
  },
  {
   "cell_type": "code",
   "execution_count": 2,
   "metadata": {},
   "outputs": [
    {
     "name": "stderr",
     "output_type": "stream",
     "text": [
      "Python 2.7.16\n"
     ]
    }
   ],
   "source": [
    "!python -V"
   ]
  },
  {
   "cell_type": "code",
   "execution_count": 3,
   "metadata": {},
   "outputs": [],
   "source": [
    "import pandas as pd\n",
    "import os"
   ]
  },
  {
   "cell_type": "markdown",
   "metadata": {},
   "source": [
    "## 1. Test running the sample code"
   ]
  },
  {
   "cell_type": "code",
   "execution_count": 5,
   "metadata": {},
   "outputs": [
    {
     "name": "stdout",
     "output_type": "stream",
     "text": [
      "Loaded graph with 116 nodes and 6670 edges from net.txt\n",
      "Contrast Subgraph td-asd: [61, 4, 5, 6, 71, 8, 9, 13, 15, 92, 89, 88, 58, 60, 93]\n",
      "Loaded graph with 116 nodes and 6670 edges from net.txt\n",
      "Contrast Subgraph asd-td: [10, 17, 20, 30, 36, 37, 38, 39, 40, 41, 54, 55, 70, 71, 72, 73, 74, 75, 76, 77, 79, 80, 81, 85, 95]\n",
      "Loaded graph with 116 nodes and 6670 edges from net.txt\n",
      "Contrast Subgraph td-asd: [64, 34, 3, 86, 67, 45, 35, 22, 23, 24, 25, 87, 27, 30, 31]\n",
      "Loaded graph with 116 nodes and 6670 edges from net.txt\n",
      "Contrast Subgraph asd-td: [70, 6, 7, 9, 14, 15, 82, 25, 26, 30, 31]\n",
      "Loaded graph with 116 nodes and 6670 edges from net.txt\n",
      "Contrast Subgraph td-asd: [6, 71, 103, 95, 11, 76, 77, 109, 104, 91, 92, 93, 31]\n",
      "Loaded graph with 116 nodes and 6670 edges from net.txt\n",
      "Contrast Subgraph asd-td: [32, 33, 66, 18, 60, 63]\n",
      "Loaded graph with 116 nodes and 6670 edges from net.txt\n",
      "Contrast Subgraph td-asd: [64, 34, 35, 2, 88, 67, 22, 23, 24, 25, 27, 93, 31]\n",
      "Loaded graph with 116 nodes and 6670 edges from net.txt\n",
      "Contrast Subgraph asd-td: [89, 37, 85, 39]\n"
     ]
    }
   ],
   "source": [
    "!python cs.py children td asd 0.05\n",
    "!python cs.py children asd td 0.05\n",
    "!python cs.py adolescents td asd 0.05\n",
    "!python cs.py adolescents asd td 0.05\n",
    "!python cs.py eyesclosed td asd 0.05\n",
    "!python cs.py eyesclosed asd td 0.05\n",
    "!python cs.py male td asd 0.05\n",
    "!python cs.py male asd td 0.05"
   ]
  },
  {
   "cell_type": "code",
   "execution_count": 6,
   "metadata": {},
   "outputs": [
    {
     "name": "stdout",
     "output_type": "stream",
     "text": [
      "Loaded graph with 116 nodes and 6670 edges from net.txt\n",
      "Contrast Subgraph td-asd: [4, 6, 8, 9, 13, 15, 92, 88, 60]\n",
      "Loaded graph with 116 nodes and 6670 edges from net.txt\n",
      "Contrast Subgraph asd-td: [36, 37, 71, 41, 74, 76, 77, 79, 81, 55, 38, 95]\n",
      "Loaded graph with 116 nodes and 6670 edges from net.txt\n",
      "Contrast Subgraph td-asd: [3, 87, 67, 22, 23, 24, 25, 30, 31]\n",
      "Loaded graph with 116 nodes and 6670 edges from net.txt\n",
      "Contrast Subgraph asd-td: [82, 70, 30, 6, 31]\n",
      "Loaded graph with 116 nodes and 6670 edges from net.txt\n",
      "Contrast Subgraph td-asd: [76, 77, 95, 92, 93, 31]\n",
      "Loaded graph with 116 nodes and 6670 edges from net.txt\n",
      "Contrast Subgraph asd-td: [16, 57, 83, 76]\n",
      "Loaded graph with 116 nodes and 6670 edges from net.txt\n",
      "Contrast Subgraph td-asd: [64, 35, 3, 24, 31]\n",
      "Loaded graph with 116 nodes and 6670 edges from net.txt\n",
      "Contrast Subgraph asd-td: [88, 54, 39]\n"
     ]
    }
   ],
   "source": [
    "!python cs.py children td asd 0.08\n",
    "!python cs.py children asd td 0.08\n",
    "!python cs.py adolescents td asd 0.08\n",
    "!python cs.py adolescents asd td 0.08\n",
    "!python cs.py eyesclosed td asd 0.08\n",
    "!python cs.py eyesclosed asd td 0.08\n",
    "!python cs.py male td asd 0.08\n",
    "!python cs.py male asd td 0.08"
   ]
  },
  {
   "cell_type": "code",
   "execution_count": null,
   "metadata": {},
   "outputs": [],
   "source": []
  }
 ],
 "metadata": {
  "kernelspec": {
   "display_name": "Python 3",
   "language": "python",
   "name": "python3"
  },
  "language_info": {
   "codemirror_mode": {
    "name": "ipython",
    "version": 3
   },
   "file_extension": ".py",
   "mimetype": "text/x-python",
   "name": "python",
   "nbconvert_exporter": "python",
   "pygments_lexer": "ipython3",
   "version": "3.8.5"
  }
 },
 "nbformat": 4,
 "nbformat_minor": 4
}
