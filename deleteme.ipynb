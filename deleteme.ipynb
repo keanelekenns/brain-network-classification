{
 "cells": [
  {
   "cell_type": "code",
   "execution_count": 1,
   "metadata": {},
   "outputs": [],
   "source": [
    "import numpy as np"
   ]
  },
  {
   "cell_type": "code",
   "execution_count": 16,
   "metadata": {},
   "outputs": [],
   "source": [
    "diff_net = np.array([[0, 1, -2, 2, -1, 3, 2, 1],\n",
    "                      [0, 0, 2, 2, -1, 3, -2, 1],\n",
    "                      [0, 0, 0, 2, -1, 0, -2, 1],\n",
    "                      [0, 0, 0, 0, -1, 3, -2, 1],\n",
    "                      [0, 0, 0, 0, 0, 3, -2, 1],\n",
    "                      [0, 0, 0, 0, 0, 0, -2, 1],\n",
    "                      [0, 0, 0, 0, 0, 0, 0, 1],\n",
    "                      [0, 0, 0, 0, 0, 0, 0, 0]])\n",
    "\n",
    "num_edges = 12"
   ]
  },
  {
   "cell_type": "code",
   "execution_count": 31,
   "metadata": {},
   "outputs": [
    {
     "data": {
      "text/plain": [
       "array([ 1, -2,  2, -1,  3,  2,  1,  2,  2, -1,  3, -2,  1,  2, -1,  0, -2,\n",
       "        1, -1,  3, -2,  1,  3, -2,  1, -2,  1,  1])"
      ]
     },
     "execution_count": 31,
     "metadata": {},
     "output_type": "execute_result"
    }
   ],
   "source": [
    "diff_net[np.triu_indices_from(diff_net, k=1)]"
   ]
  },
  {
   "cell_type": "code",
   "execution_count": 17,
   "metadata": {},
   "outputs": [],
   "source": [
    "# Find the num_edges most positive and most negative edge diffs\n",
    "partitions = np.argpartition(diff_net, (num_edges, -num_edges), axis=None)\n",
    "top_n = np.unravel_index(partitions[-num_edges:], diff_net.shape)\n",
    "bottom_n = np.unravel_index(partitions[:num_edges], diff_net.shape)"
   ]
  },
  {
   "cell_type": "code",
   "execution_count": 18,
   "metadata": {},
   "outputs": [
    {
     "data": {
      "text/plain": [
       "(array([12, 20,  2, 38,  4, 30, 46, 28, 22, 14, 45, 48, 40, 42, 44, 51, 43,\n",
       "        41, 35, 49, 50, 63, 52, 53, 54, 56, 57, 58, 59, 60, 61, 62, 36,  0,\n",
       "        17, 34, 32,  7,  8,  9, 55, 27, 26, 25, 24, 15, 21, 16, 33, 18, 31,\n",
       "        39, 23,  1, 47, 29, 10, 11, 13, 37,  6,  5,  3, 19]),\n",
       " (array([2, 0, 5, 3, 1, 1, 1, 4, 0, 0, 0, 2]),\n",
       "  array([7, 1, 7, 5, 2, 3, 5, 5, 6, 5, 3, 3])),\n",
       " (array([1, 2, 0, 4, 0, 3, 5, 3, 2, 1, 5, 6]),\n",
       "  array([4, 4, 2, 6, 4, 6, 6, 4, 6, 6, 5, 0])))"
      ]
     },
     "execution_count": 18,
     "metadata": {},
     "output_type": "execute_result"
    }
   ],
   "source": [
    "partitions, top_n, bottom_n"
   ]
  },
  {
   "cell_type": "code",
   "execution_count": 19,
   "metadata": {},
   "outputs": [
    {
     "data": {
      "text/plain": [
       "(array([1, 1, 1, 3, 2, 2, 3, 3, 2, 3, 2, 2]),\n",
       " array([-1, -1, -2, -2, -1, -2, -2, -1, -2, -2,  0,  0]))"
      ]
     },
     "execution_count": 19,
     "metadata": {},
     "output_type": "execute_result"
    }
   ],
   "source": [
    "diff_net[top_n], diff_net[bottom_n]"
   ]
  },
  {
   "cell_type": "code",
   "execution_count": 25,
   "metadata": {},
   "outputs": [
    {
     "data": {
      "text/plain": [
       "(array([-1, -1, -2, -2, -1, -2, -2, -1, -2, -2]),\n",
       " array([1, 1, 1, 3, 2, 2, 3, 3, 2, 3, 2, 2]),\n",
       " (array([1, 2, 0, 4, 0, 3, 5, 3, 2, 1]),\n",
       "  array([4, 4, 2, 6, 4, 6, 6, 4, 6, 6])),\n",
       " (array([2, 0, 5, 3, 1, 1, 1, 4, 0, 0, 0, 2]),\n",
       "  array([7, 1, 7, 5, 2, 3, 5, 5, 6, 5, 3, 3])))"
      ]
     },
     "execution_count": 25,
     "metadata": {},
     "output_type": "execute_result"
    }
   ],
   "source": [
    "\n",
    "bottom_edges = diff_net[bottom_n]\n",
    "negative = bottom_edges < 0\n",
    "negative_indices = (bottom_n[0][negative], bottom_n[1][negative])\n",
    "important_b_edges = diff_net[negative_indices]\n",
    "\n",
    "top_edges = diff_net[top_n]\n",
    "positive = top_edges > 0\n",
    "positive_indices = (top_n[0][positive], top_n[1][positive])\n",
    "important_a_edges = diff_net[positive_indices]\n",
    "\n",
    "important_b_edges,important_a_edges, negative_indices, positive_indices"
   ]
  },
  {
   "cell_type": "code",
   "execution_count": 26,
   "metadata": {},
   "outputs": [
    {
     "data": {
      "text/plain": [
       "(25, -16)"
      ]
     },
     "execution_count": 26,
     "metadata": {},
     "output_type": "execute_result"
    }
   ],
   "source": [
    "np.sum(important_a_edges), np.sum(important_b_edges)"
   ]
  },
  {
   "cell_type": "code",
   "execution_count": 28,
   "metadata": {},
   "outputs": [
    {
     "data": {
      "text/plain": [
       "0.75"
      ]
     },
     "execution_count": 28,
     "metadata": {},
     "output_type": "execute_result"
    }
   ],
   "source": [
    "test = np.array([1,1,1,1,1,1,1,1,0,0])\n",
    "\n",
    "np.dot(test, important_b_edges)/-16"
   ]
  },
  {
   "cell_type": "code",
   "execution_count": 29,
   "metadata": {},
   "outputs": [
    {
     "data": {
      "text/plain": [
       "46"
      ]
     },
     "execution_count": 29,
     "metadata": {},
     "output_type": "execute_result"
    }
   ],
   "source": [
    "np.sum(np.abs(diff_net))"
   ]
  },
  {
   "cell_type": "markdown",
   "metadata": {},
   "source": [
    "## Tabular embedding with SVM"
   ]
  },
  {
   "cell_type": "code",
   "execution_count": 34,
   "metadata": {},
   "outputs": [],
   "source": [
    "from classification import classify\n",
    "import utils"
   ]
  },
  {
   "cell_type": "code",
   "execution_count": 37,
   "metadata": {},
   "outputs": [],
   "source": [
    "def graphs_to_tabular(train_graphs, train_labels, test_graphs, a_label, b_label):\n",
    "\n",
    "    def graph_to_point(graph):\n",
    "        return graph[np.triu_indices_from(graph, k=1)]\n",
    "\n",
    "    axes_labels = []\n",
    "    train_points = np.array(list(map(graph_to_point, train_graphs)))\n",
    "    test_points = np.array(list(map(graph_to_point, test_graphs)))\n",
    "\n",
    "    return train_points, test_points, axes_labels"
   ]
  },
  {
   "cell_type": "code",
   "execution_count": 73,
   "metadata": {},
   "outputs": [
    {
     "name": "stdout",
     "output_type": "stream",
     "text": [
      "\n",
      "Performing 5-fold cross validation...\n",
      "\n",
      "Metrics using cumulative confusion matrix:\n",
      "[[36. 13.]\n",
      " [27. 25.]]\n",
      "Accuracy: 0.6039603960396039\n",
      "Precision: 0.7346938775510204\n",
      "Recall: 0.5714285714285714\n",
      "F1: 0.6428571428571428\n"
     ]
    },
    {
     "data": {
      "text/plain": [
       "0.6039603960396039"
      ]
     },
     "execution_count": 73,
     "metadata": {},
     "output_type": "execute_result"
    }
   ],
   "source": [
    "# Read brain graph files into numpy arrays\n",
    "graphs_A = utils.get_graphs_from_files(\"./datasets/children/asd/\")\n",
    "graphs_B = utils.get_graphs_from_files(\"./datasets/children/td/\")\n",
    "\n",
    "graphs, labels = utils.label_and_concatenate_graphs(graphs_A, graphs_B, a_label=\"ASD\", b_label=\"TD\")\n",
    "\n",
    "classify(graphs, labels, graphs_to_tabular, a_label=\"ASD\", b_label=\"TD\", random_state=None)"
   ]
  },
  {
   "cell_type": "markdown",
   "metadata": {},
   "source": [
    "## Lanciano CSs for classification (derived from all graphs)"
   ]
  },
  {
   "cell_type": "code",
   "execution_count": 30,
   "metadata": {},
   "outputs": [],
   "source": [
    "from classification import classify\n",
    "import utils\n",
    "from cs_classification import cs_p1_graphs_to_points"
   ]
  },
  {
   "cell_type": "code",
   "execution_count": 32,
   "metadata": {},
   "outputs": [],
   "source": [
    "def cs_graphs_to_points(train_graphs, train_labels, test_graphs, a_label, b_label, cs_a_b, cs_b_a):\n",
    "\n",
    "    axes_labels = []\n",
    "    train_points = cs_p1_graphs_to_points(train_graphs, cs_a_b, cs_b_a)\n",
    "    test_points = cs_p1_graphs_to_points(test_graphs, cs_a_b, cs_b_a)\n",
    "\n",
    "    return train_points, test_points, axes_labels"
   ]
  },
  {
   "cell_type": "code",
   "execution_count": 40,
   "metadata": {},
   "outputs": [
    {
     "name": "stdout",
     "output_type": "stream",
     "text": [
      "\n",
      "Performing 5-fold cross validation...\n",
      "\n",
      "Metrics using cumulative confusion matrix:\n",
      "[[35. 14.]\n",
      " [14. 38.]]\n",
      "Accuracy: 0.7227722772277227\n",
      "Precision: 0.7142857142857143\n",
      "Recall: 0.7142857142857143\n",
      "F1: 0.7142857142857143\n"
     ]
    },
    {
     "data": {
      "text/plain": [
       "0.7227722772277227"
      ]
     },
     "execution_count": 40,
     "metadata": {},
     "output_type": "execute_result"
    }
   ],
   "source": [
    "# Read brain graph files into numpy arrays\n",
    "graphs_A = utils.get_graphs_from_files(\"./datasets/children/asd/\")\n",
    "graphs_B = utils.get_graphs_from_files(\"./datasets/children/td/\")\n",
    "\n",
    "# Retrieved with Lanciano's code using optimally reported children alpha values for problem 1\n",
    "cs_t_a = [4, 5, 6, 7, 8, 9, 13, 15, 35, 57, 58, 60, 61, 71, 88, 89, 90, 92, 93, 99, 100, 101, 102]\n",
    "cs_a_t = [10, 17, 20, 30, 36, 37, 38, 39, 40, 41, 54, 55, 70, 71, 72, 73, 74, 75, 76, 77, 79, 80, 81, 85, 95]\n",
    "\n",
    "graphs, labels = utils.label_and_concatenate_graphs(graphs_A, graphs_B, a_label=\"ASD\", b_label=\"TD\")\n",
    "\n",
    "classify(graphs, labels, cs_graphs_to_points, a_label=\"ASD\", b_label=\"TD\", random_state=None, cs_a_b=cs_a_t, cs_b_a=cs_t_a)"
   ]
  },
  {
   "cell_type": "code",
   "execution_count": null,
   "metadata": {},
   "outputs": [],
   "source": [
    "from sklearn.model_selection import GridSearchCV"
   ]
  },
  {
   "cell_type": "markdown",
   "metadata": {},
   "source": [
    "# Find Percentile Alphas"
   ]
  },
  {
   "cell_type": "code",
   "execution_count": 3,
   "metadata": {},
   "outputs": [],
   "source": [
    "import utils\n",
    "import numpy as np"
   ]
  },
  {
   "cell_type": "code",
   "execution_count": 6,
   "metadata": {},
   "outputs": [],
   "source": [
    "# Read brain graph files into numpy arrays\n",
    "children_asd = utils.get_graphs_from_files(\"./datasets/children/asd/\")\n",
    "children_td = utils.get_graphs_from_files(\"./datasets/children/td/\")\n",
    "children_asd_td_diff = utils.summary_graph(children_asd) - utils.summary_graph(children_td)"
   ]
  },
  {
   "cell_type": "code",
   "execution_count": null,
   "metadata": {},
   "outputs": [],
   "source": [
    "male_asd = utils.get_graphs_from_files(\"./datasets/male/asd/\")\n",
    "male_td = utils.get_graphs_from_files(\"./datasets/male/td/\")\n",
    "male_asd_td_diff = utils.summary_graph(male_asd) - utils.summary_graph(male_td)"
   ]
  },
  {
   "cell_type": "code",
   "execution_count": null,
   "metadata": {},
   "outputs": [],
   "source": [
    "eyesclosed_asd = utils.get_graphs_from_files(\"./datasets/eyesclosed/asd/\")\n",
    "eyesclosed_td = utils.get_graphs_from_files(\"./datasets/eyesclosed/td/\")\n",
    "eyesclosed_asd_td_diff = utils.summary_graph(eyesclosed_asd) - utils.summary_graph(eyesclosed_td)"
   ]
  },
  {
   "cell_type": "code",
   "execution_count": null,
   "metadata": {},
   "outputs": [],
   "source": [
    "adolescents_asd = utils.get_graphs_from_files(\"./datasets/adolescents/asd/\")\n",
    "adolescents_td = utils.get_graphs_from_files(\"./datasets/adolescents/td/\")\n",
    "adolescents_asd_td_diff = utils.summary_graph(adolescents_asd) - utils.summary_graph(adolescents_td)"
   ]
  },
  {
   "cell_type": "code",
   "execution_count": 22,
   "metadata": {},
   "outputs": [
    {
     "data": {
      "text/plain": [
       "(0.050235478806907374, 0.03375196232339091, 0.06828885400313972)"
      ]
     },
     "execution_count": 22,
     "metadata": {},
     "output_type": "execute_result"
    }
   ],
   "source": [
    "flat = children_asd_td_diff[np.triu_indices_from(children_asd_td_diff, k=1)]\n",
    "children_alpha_asd_td = np.percentile(flat, 80)\n",
    "children_alpha_td_asd = np.percentile(-flat, 70)\n",
    "children_alpha_p2 = np.percentile(abs(flat), 70)\n",
    "children_alpha_asd_td, children_alpha_td_asd, children_alpha_p2"
   ]
  },
  {
   "cell_type": "code",
   "execution_count": 16,
   "metadata": {},
   "outputs": [
    {
     "data": {
      "text/plain": [
       "(0.01411483253588517, 0.016994190020505763, 0.0283697881066302)"
      ]
     },
     "execution_count": 16,
     "metadata": {},
     "output_type": "execute_result"
    }
   ],
   "source": [
    "flat = male_asd_td_diff[np.triu_indices_from(male_asd_td_diff, k=1)]\n",
    "male_alpha_asd_td = np.percentile(flat, 70)\n",
    "male_alpha_td_asd = np.percentile(-flat, 75)\n",
    "male_alpha_p2 = np.percentile(abs(flat), 70)\n",
    "male_alpha_asd_td, male_alpha_td_asd, male_alpha_p2"
   ]
  },
  {
   "cell_type": "code",
   "execution_count": 17,
   "metadata": {},
   "outputs": [
    {
     "data": {
      "text/plain": [
       "(0.026805658972449742, 0.024664929262844387, 0.042377140729709536)"
      ]
     },
     "execution_count": 17,
     "metadata": {},
     "output_type": "execute_result"
    }
   ],
   "source": [
    "flat = eyesclosed_asd_td_diff[np.triu_indices_from(eyesclosed_asd_td_diff, k=1)]\n",
    "eyesclosed_alpha_asd_td = np.percentile(flat, 75)\n",
    "eyesclosed_alpha_td_asd = np.percentile(-flat, 75)\n",
    "eyesclosed_alpha_p2 = np.percentile(abs(flat), 70)\n",
    "eyesclosed_alpha_asd_td, eyesclosed_alpha_td_asd, eyesclosed_alpha_p2"
   ]
  },
  {
   "cell_type": "code",
   "execution_count": 18,
   "metadata": {},
   "outputs": [
    {
     "data": {
      "text/plain": [
       "(0.020447420917640347, 0.0847249928754629, 0.051937874038187545)"
      ]
     },
     "execution_count": 18,
     "metadata": {},
     "output_type": "execute_result"
    }
   ],
   "source": [
    "flat = adolescents_asd_td_diff[np.triu_indices_from(adolescents_asd_td_diff, k=1)]\n",
    "adolescents_alpha_asd_td = np.percentile(flat, 70)\n",
    "adolescents_alpha_td_asd = np.percentile(-flat, 95)\n",
    "adolescents_alpha_p2 = np.percentile(abs(flat), 75)\n",
    "adolescents_alpha_asd_td, adolescents_alpha_td_asd, adolescents_alpha_p2"
   ]
  },
  {
   "cell_type": "markdown",
   "metadata": {},
   "source": [
    "### Compare the Contrast Subgraphs found by replication"
   ]
  },
  {
   "cell_type": "code",
   "execution_count": 1,
   "metadata": {},
   "outputs": [],
   "source": [
    "from dense_subgraph import qp, sdp"
   ]
  },
  {
   "cell_type": "code",
   "execution_count": 7,
   "metadata": {},
   "outputs": [
    {
     "name": "stdout",
     "output_type": "stream",
     "text": [
      "Time for QP: 0:00:00.051924\n",
      "CS before local search: []\n",
      "CS after local search: []\n",
      "Time for local search: 0:00:00.006762\n",
      "Time to find CS: 0:00:00.058686\n",
      "None\n",
      "[[ 1.         -0.84723424 -0.97470852 ... -0.99365659 -0.85379128\n",
      "  -0.82916163]\n",
      " [-0.84723424  1.          0.70709968 ...  0.78213333  0.99992185\n",
      "   0.99945176]\n",
      " [-0.97470852  0.70709968  1.         ...  0.99365545  0.71586063\n",
      "   0.68327337]\n",
      " ...\n",
      " [-0.99365659  0.78213333  0.99365545 ...  1.          0.78984116\n",
      "   0.76105036]\n",
      " [-0.85379128  0.99992185  0.71586063 ...  0.78984116  1.\n",
      "   0.99896082]\n",
      " [-0.82916163  0.99945176  0.68327337 ...  0.76105036  0.99896082\n",
      "   1.        ]]\n",
      "Time for SDP: 0:00:02.417420\n",
      "CS before local search: [2, 7, 11, 16, 18, 21, 23, 24, 25, 33, 37, 38, 41, 45, 52, 54, 57, 59, 63, 66, 69, 71, 75, 76, 77, 78, 79, 80, 84, 90, 92, 93, 96, 103, 108, 113]\n",
      "CS after local search: [10 17 20 30 36 37 38 39 40 41 54 55 70 71 72 73 74 75 76 77 79 80 81 85\n",
      " 95]\n",
      "Time for local search: 0:00:00.302759\n",
      "Time to find CS: 0:00:02.720179\n"
     ]
    },
    {
     "data": {
      "text/plain": [
       "array([10, 17, 20, 30, 36, 37, 38, 39, 40, 41, 54, 55, 70, 71, 72, 73, 74,\n",
       "       75, 76, 77, 79, 80, 81, 85, 95])"
      ]
     },
     "execution_count": 7,
     "metadata": {},
     "output_type": "execute_result"
    }
   ],
   "source": [
    "qp(children_asd_td_diff, 0.0502)\n",
    "sdp(children_asd_td_diff, 0.0502)"
   ]
  },
  {
   "cell_type": "code",
   "execution_count": 12,
   "metadata": {},
   "outputs": [
    {
     "data": {
      "text/plain": [
       "0.8619145023489602"
      ]
     },
     "execution_count": 12,
     "metadata": {},
     "output_type": "execute_result"
    }
   ],
   "source": [
    "X_from_original = np.load(\"test.npy\")\n",
    "X_new_sdp = np.load(\"test2.npy\")\n",
    "X_diff = X_from_original - X_new_sdp\n",
    "abs(X_diff).sum()\n",
    "X_from_original[0], X_new_sdp[0]"
   ]
  }
 ],
 "metadata": {
  "kernelspec": {
   "display_name": "Python 3.8.10 ('.venv': poetry)",
   "language": "python",
   "name": "python3"
  },
  "language_info": {
   "codemirror_mode": {
    "name": "ipython",
    "version": 3
   },
   "file_extension": ".py",
   "mimetype": "text/x-python",
   "name": "python",
   "nbconvert_exporter": "python",
   "pygments_lexer": "ipython3",
   "version": "3.8.10"
  },
  "orig_nbformat": 4,
  "vscode": {
   "interpreter": {
    "hash": "a59e83b9081484267e264049bdd71eeb7bb6ce2849a71db8011c29e5de8004b3"
   }
  }
 },
 "nbformat": 4,
 "nbformat_minor": 2
}
