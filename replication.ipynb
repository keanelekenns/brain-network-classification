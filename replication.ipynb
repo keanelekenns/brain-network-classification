{
 "cells": [
  {
   "cell_type": "code",
   "execution_count": 2,
   "metadata": {},
   "outputs": [],
   "source": [
    "from dense_subgraph import sdp\n",
    "import numpy as np\n",
    "import json\n",
    "import utils\n",
    "import classification\n",
    "from pipeline import Pipeline\n",
    "from cs_transformer import ContrastSubgraphTransformer\n",
    "from sklearn.svm import SVC\n",
    "from sklearn.model_selection import StratifiedKFold\n",
    "from sklearn.preprocessing import StandardScaler"
   ]
  },
  {
   "cell_type": "code",
   "execution_count": 3,
   "metadata": {},
   "outputs": [],
   "source": [
    "# For reproducible results, set random_state to a number, otherwise set it to None\n",
    "random_state = 42\n",
    "\n",
    "A_LABEL=\"ASD\"\n",
    "B_LABEL=\"TD\"\n",
    "\n",
    "GRAPH_DIR_PREFIX = \"./data/lanciano_datasets_corr_thresh_80/\"\n",
    "DATA_DESCRIPTOR = \"Lanciano-Processed\"\n",
    "\n",
    "# Best Parameters reported by Lanciano et al.\n",
    "best_params = {\n",
    "    \"CSP1\": {\n",
    "        \"children\": {\n",
    "            \"percentile_TD_ASD\": 70,\n",
    "            \"percentile_ASD_TD\": 80,\n",
    "        },\n",
    "        \"adolescents\": {\n",
    "            \"percentile_TD_ASD\": 95,\n",
    "            \"percentile_ASD_TD\": 70,\n",
    "        },\n",
    "        \"eyesclosed\": {\n",
    "            \"percentile_TD_ASD\": 75,\n",
    "            \"percentile_ASD_TD\": 75,\n",
    "        },\n",
    "        \"male\": {\n",
    "            \"percentile_TD_ASD\": 75,\n",
    "            \"percentile_ASD_TD\": 70,\n",
    "        },\n",
    "    },\n",
    "    \"CSP2\": {\n",
    "        \"children\": 70,\n",
    "        \"adolescents\": 75,\n",
    "        \"eyesclosed\": 70,\n",
    "        \"male\": 70,\n",
    "    },\n",
    "}"
   ]
  },
  {
   "cell_type": "code",
   "execution_count": 5,
   "metadata": {},
   "outputs": [
    {
     "name": "stdout",
     "output_type": "stream",
     "text": [
      "grid_search_cv will take aproximately 0:00:41.199440\n",
      "grid_search_cv will take aproximately 0:00:11.062035\n",
      "grid_search_cv will take aproximately 0:00:35.270875\n",
      "grid_search_cv will take aproximately 0:00:15.782120\n",
      "grid_search_cv will take aproximately 0:00:35.029075\n",
      "grid_search_cv will take aproximately 0:00:13.517770\n",
      "grid_search_cv will take aproximately 0:00:40.386160\n",
      "grid_search_cv will take aproximately 0:00:16.623225\n"
     ]
    }
   ],
   "source": [
    "for dataset_name in [\"children\", \"adolescents\", \"eyesclosed\", \"male\"]:\n",
    "    A_GRAPH_DIR = f\"{GRAPH_DIR_PREFIX}{dataset_name}/asd/\"\n",
    "    B_GRAPH_DIR = f\"{GRAPH_DIR_PREFIX}{dataset_name}/td/\"\n",
    "\n",
    "    graphs_A = utils.get_graphs_from_files(A_GRAPH_DIR)\n",
    "    graphs_B = utils.get_graphs_from_files(B_GRAPH_DIR)\n",
    "    asd_count = len(graphs_A) if A_LABEL == \"ASD\" else len(graphs_B)\n",
    "    td_count = len(graphs_B) if B_LABEL == \"TD\" else len(graphs_A)\n",
    "\n",
    "    graphs, labels = utils.label_and_concatenate_graphs(graphs_A=graphs_A, graphs_B=graphs_B, a_label=A_LABEL, b_label=B_LABEL)\n",
    "    \n",
    "    pipe = [ContrastSubgraphTransformer, StandardScaler, SVC]\n",
    "    cv = StratifiedKFold(n_splits=5, shuffle=True, random_state=random_state)\n",
    "\n",
    "    # CSP1 SDP\n",
    "    p_grid = {\n",
    "      \"SVC\": {\n",
    "        \"C\": [100], \"gamma\": [0.1]\n",
    "      },\n",
    "      \"ContrastSubgraphTransformer\": {\n",
    "        \"a_label\": [A_LABEL],\n",
    "        \"b_label\": [B_LABEL],\n",
    "        \"alpha\": [None],\n",
    "        \"alpha2\": [None],\n",
    "\n",
    "        # ASD - TD\n",
    "        \"percentile\": [best_params[\"CSP1\"][dataset_name][\"percentile_ASD_TD\"]],\n",
    "        # TD - ASD\n",
    "        \"percentile2\": [best_params[\"CSP1\"][dataset_name][\"percentile_TD_ASD\"]],\n",
    "\n",
    "        \"problem\": [1],\n",
    "        \"solver\": [sdp],\n",
    "        \"num_cs\": [1],\n",
    "      }\n",
    "    }\n",
    "    results, _ = classification.grid_search_cv(X=graphs, y=labels, pipeline_steps=pipe, step_param_grids=p_grid, cv=cv, random_state=random_state)\n",
    "    classification.write_results_to_file(filename=f'./outputs/{DATA_DESCRIPTOR}-CV-CSP1-SDP-N1-{dataset_name}.txt',\n",
    "                            summary=results[\"summary\"], results=results[\"best_results\"], parameter_grid=p_grid, asd_count=asd_count, td_count=td_count)\n",
    "\n",
    "    #CSP2 SDP\n",
    "    p_grid = {\"SVC\": {\"C\": [100], \"gamma\": [0.1]},\n",
    "          \"ContrastSubgraphTransformer\": {\n",
    "            \"a_label\": [A_LABEL],\n",
    "            \"b_label\": [B_LABEL],\n",
    "            \"alpha\": [None],\n",
    "            \"alpha2\": [None],\n",
    "\n",
    "            \"percentile\": [best_params[\"CSP2\"][dataset_name]],\n",
    "            \"percentile2\": [None],\n",
    "\n",
    "            \"problem\": [2],\n",
    "            \"solver\": [sdp],\n",
    "            \"num_cs\": [1],\n",
    "            }\n",
    "          }\n",
    "    results, _ = classification.grid_search_cv(X=graphs, y=labels, pipeline_steps=pipe, step_param_grids=p_grid, cv=cv, random_state=random_state)\n",
    "    classification.write_results_to_file(filename=f'./outputs/{DATA_DESCRIPTOR}-CV-CSP2-SDP-N1-{dataset_name}.txt',\n",
    "                            summary=results[\"summary\"], results=results[\"best_results\"], parameter_grid=p_grid, asd_count=asd_count, td_count=td_count)"
   ]
  }
 ],
 "metadata": {
  "kernelspec": {
   "display_name": ".venv",
   "language": "python",
   "name": "python3"
  },
  "language_info": {
   "codemirror_mode": {
    "name": "ipython",
    "version": 3
   },
   "file_extension": ".py",
   "mimetype": "text/x-python",
   "name": "python",
   "nbconvert_exporter": "python",
   "pygments_lexer": "ipython3",
   "version": "3.8.10"
  },
  "orig_nbformat": 4,
  "vscode": {
   "interpreter": {
    "hash": "8346a52b29e2085c7585e978abf79ac58e4d129e03e9060cf63d2201f07da517"
   }
  }
 },
 "nbformat": 4,
 "nbformat_minor": 2
}
