{
 "cells": [
  {
   "cell_type": "markdown",
   "metadata": {},
   "source": [
    "## Python version and libraries"
   ]
  },
  {
   "cell_type": "code",
   "execution_count": null,
   "metadata": {},
   "outputs": [],
   "source": [
    "!python3 --version"
   ]
  },
  {
   "cell_type": "markdown",
   "metadata": {},
   "source": [
    "## Tool Help"
   ]
  },
  {
   "cell_type": "code",
   "execution_count": null,
   "metadata": {},
   "outputs": [],
   "source": [
    "!python3 cs_classification.py -h > outputs/help.txt"
   ]
  },
  {
   "cell_type": "markdown",
   "metadata": {},
   "source": [
    "# Brain Network Classification Experiments\n",
    "\n",
    "For each experiment we use Leave One Out Cross Validation (LOOCV) with alpha tuning based on accuracy. We also use the linearSVC classifier from sklearn after separating the data using various techniques."
   ]
  },
  {
   "cell_type": "markdown",
   "metadata": {},
   "source": [
    "## Contrast Subgraph Problem 1 (CSP1)"
   ]
  },
  {
   "cell_type": "markdown",
   "metadata": {},
   "source": [
    "### Close to paper’s method:\n",
    "#### Solver=SDP, charikar_projection, tsourakakis local search, a single contrast subgraph"
   ]
  },
  {
   "cell_type": "code",
   "execution_count": null,
   "metadata": {},
   "outputs": [],
   "source": [
    "!python3 cs_classification.py datasets/children/td/ datasets/children/asd/ -a 0.0431708697197917 -a2 0.004756156284921932 -t -k 5 --plot -pre CSP1-SDP-Children > outputs/CSP1-SDP-Children.txt"
   ]
  },
  {
   "cell_type": "code",
   "execution_count": null,
   "metadata": {},
   "outputs": [],
   "source": [
    "!python3 cs_classification.py datasets/adolescents/td/ datasets/adolescents/asd/ -a 0.07815490232353978 -a2 0.06279983813657855 -t -k 5 --plot -pre CSP1-SDP-Adolescents > outputs/CSP1-SDP-Adolescents.txt"
   ]
  },
  {
   "cell_type": "code",
   "execution_count": null,
   "metadata": {},
   "outputs": [],
   "source": [
    "!python3 cs_classification.py datasets/eyesclosed/td/ datasets/eyesclosed/asd/ -a 0.03992804703844329 -a2 0.2595286731825239 -t -k 5 --plot -pre CSP1-SDP-Eyesclosed > outputs/CSP1-SDP-Eyesclosed.txt"
   ]
  },
  {
   "cell_type": "code",
   "execution_count": null,
   "metadata": {},
   "outputs": [],
   "source": [
    "!python3 cs_classification.py datasets/male/td/ datasets/male/asd/ -a 0.006140427039300046 -a2 0.13693094477562085 -t -k 5 --plot -pre CSP1-SDP-Male > outputs/CSP1-SDP-Male.txt"
   ]
  },
  {
   "cell_type": "markdown",
   "metadata": {},
   "source": [
    "### Our CS method:\n",
    "#### Solver=QP, tweaked local search, 3 contrast subgraphs"
   ]
  },
  {
   "cell_type": "code",
   "execution_count": null,
   "metadata": {},
   "outputs": [],
   "source": [
    "!python3 cs_classification.py datasets/children/td/ datasets/children/asd/ -a 0.011617363978351282 -a2 0.003374861287114118 -t -k 5 --plot -pre CSP1-QP-Children -s qp -cs 3 > outputs/CSP1-QP-Children.txt"
   ]
  },
  {
   "cell_type": "code",
   "execution_count": null,
   "metadata": {},
   "outputs": [],
   "source": [
    "!python3 cs_classification.py datasets/adolescents/td/ datasets/adolescents/asd/ -a 0.01641398031318531 -a2 0.003855781725596553 -t -k 5 --plot -pre CSP1-QP-Adolescents -s qp -cs 3 > outputs/CSP1-QP-Adolescents.txt"
   ]
  },
  {
   "cell_type": "code",
   "execution_count": null,
   "metadata": {},
   "outputs": [],
   "source": [
    "!python3 cs_classification.py datasets/eyesclosed/td/ datasets/eyesclosed/asd/ -a 0.011617363978351282 -a2 0.003374861287114118 -t -k 5 --plot -pre CSP1-QP-Eyesclosed -s qp -cs 3 > outputs/CSP1-QP-Eyesclosed.txt"
   ]
  },
  {
   "cell_type": "code",
   "execution_count": null,
   "metadata": {},
   "outputs": [],
   "source": [
    "!python3 cs_classification.py datasets/male/td/ datasets/male/asd/ -a 0.0034040858710662654 -a2 0.010292493430446383  -t -k 5 --plot -pre CSP1-QP-Male -s qp -cs 3 > outputs/CSP1-QP-Male.txt"
   ]
  },
  {
   "cell_type": "markdown",
   "metadata": {},
   "source": [
    "## Contrast Subgraph Problem 2 (CSP2)"
   ]
  },
  {
   "cell_type": "markdown",
   "metadata": {},
   "source": [
    "### Close to paper’s method:\n",
    "#### Solver=SDP, charikar_projection, tsourakakis local search, a single contrast subgraph"
   ]
  },
  {
   "cell_type": "code",
   "execution_count": null,
   "metadata": {},
   "outputs": [],
   "source": [
    "!python3 cs_classification.py datasets/children/td/ datasets/children/asd/ -p 2 -a 0.05549654684691075 -t -k 5 --plot -pre CSP2-SDP-Children > outputs/CSP2-SDP-Children.txt"
   ]
  },
  {
   "cell_type": "code",
   "execution_count": null,
   "metadata": {},
   "outputs": [],
   "source": [
    "!python3 cs_classification.py datasets/adolescents/td/ datasets/adolescents/asd/ -p 2 -a 0.05549654684691075 -t -k 5 --plot -pre CSP2-SDP-Adolescents > outputs/CSP2-SDP-Adolescents.txt"
   ]
  },
  {
   "cell_type": "code",
   "execution_count": null,
   "metadata": {},
   "outputs": [],
   "source": [
    "!python3 cs_classification.py datasets/eyesclosed/td/ datasets/eyesclosed/asd/ -p 2 -a 0.03 -t -k 5 --plot -pre CSP2-SDP-Eyesclosed > outputs/CSP2-SDP-Eyesclosed.txt"
   ]
  },
  {
   "cell_type": "code",
   "execution_count": null,
   "metadata": {},
   "outputs": [],
   "source": [
    "!python3 cs_classification.py datasets/male/td/ datasets/male/asd/ -p 2 -a 0.03 -t -k 5 --plot -pre CSP2-SDP-Male > outputs/CSP2-SDP-Male.txt"
   ]
  },
  {
   "cell_type": "markdown",
   "metadata": {},
   "source": [
    "### Our CS method:\n",
    "#### Solver=QP, tweaked local search, 3 contrast subgraphs"
   ]
  },
  {
   "cell_type": "code",
   "execution_count": null,
   "metadata": {},
   "outputs": [],
   "source": [
    "!python3 cs_classification.py datasets/children/td/ datasets/children/asd/ -p 2 -a 0.05882410023659531 -t -k 5 --plot -pre CSP2-QP-Children -s qp -cs 3 > outputs/CSP2-QP-Children.txt"
   ]
  },
  {
   "cell_type": "code",
   "execution_count": null,
   "metadata": {},
   "outputs": [],
   "source": [
    "!python3 cs_classification.py datasets/adolescents/td/ datasets/adolescents/asd/ -p 2 -a 0.029478111353922257 -t -k 5 --plot -pre CSP2-QP-Adolescents -s qp -cs 3 > outputs/CSP2-QP-Adolescents.txt"
   ]
  },
  {
   "cell_type": "code",
   "execution_count": null,
   "metadata": {},
   "outputs": [],
   "source": [
    "!python3 cs_classification.py datasets/eyesclosed/td/ datasets/eyesclosed/asd/ -p 2 -a 0.03 -t -k 5 --plot -pre CSP2-QP-Eyesclosed -s qp -cs 3 > outputs/CSP2-QP-Eyesclosed.txt"
   ]
  },
  {
   "cell_type": "code",
   "execution_count": null,
   "metadata": {},
   "outputs": [],
   "source": [
    "!python3 cs_classification.py datasets/male/td/ datasets/male/asd/ -p 2 -a 0.03 -t -k 5 --plot -pre CSP2-QP-Male -s qp -cs 3 > outputs/CSP2-QP-Male.txt"
   ]
  }
 ],
 "metadata": {
  "kernelspec": {
   "display_name": "Python 3",
   "language": "python",
   "name": "python3"
  },
  "language_info": {
   "codemirror_mode": {
    "name": "ipython",
    "version": 3
   },
   "file_extension": ".py",
   "mimetype": "text/x-python",
   "name": "python",
   "nbconvert_exporter": "python",
   "pygments_lexer": "ipython3",
   "version": "3.8.13"
  }
 },
 "nbformat": 4,
 "nbformat_minor": 4
}
